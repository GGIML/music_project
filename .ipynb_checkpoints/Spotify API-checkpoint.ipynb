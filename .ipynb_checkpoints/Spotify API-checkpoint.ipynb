{
 "cells": [
  {
   "cell_type": "code",
   "execution_count": 1,
   "metadata": {},
   "outputs": [],
   "source": [
    "import spotipy\n",
    "import os\n",
    "from spotipy.oauth2 import SpotifyClientCredentials\n",
    "from IPython.display import clear_output\n",
    "\n",
    "import numpy as np\n",
    "import pandas as pd\n",
    "\n",
    "import json\n",
    "import pickle\n",
    "\n",
    "import time\n",
    "\n",
    "import random\n",
    "\n",
    "import string"
   ]
  },
  {
   "cell_type": "markdown",
   "metadata": {},
   "source": [
    "from decouple import config\n",
    "\n",
    "USERNAME = '263a95d0f58b4e289109c4bac025c9b7'\n",
    "\n",
    "KEY = 'a4797bcca8cd460f81e29815cdbaed7b'"
   ]
  },
  {
   "cell_type": "code",
   "execution_count": 7,
   "metadata": {},
   "outputs": [],
   "source": [
    "auth_manager = SpotifyClientCredentials()\n",
    "sp = spotipy.Spotify(client_credentials_manager=auth_manager)"
   ]
  },
  {
   "cell_type": "code",
   "execution_count": 4,
   "metadata": {},
   "outputs": [],
   "source": [
    "def getTrackIDs(playlist_id, user='1127628613'):\n",
    "    ids = []\n",
    "    playlist = sp.user_playlist(user, playlist_id)\n",
    "    for item in playlist['tracks']['items']:\n",
    "        track = item['track']\n",
    "        ids.append(track['id'])\n",
    "    return ids"
   ]
  },
  {
   "cell_type": "code",
   "execution_count": 23,
   "metadata": {},
   "outputs": [],
   "source": [
    "hits = pd.read_csv('data/Hot Stuff.csv', parse_dates=['WeekID'])"
   ]
  },
  {
   "cell_type": "code",
   "execution_count": 24,
   "metadata": {
    "scrolled": true
   },
   "outputs": [
    {
     "data": {
      "text/html": [
       "<div>\n",
       "<style scoped>\n",
       "    .dataframe tbody tr th:only-of-type {\n",
       "        vertical-align: middle;\n",
       "    }\n",
       "\n",
       "    .dataframe tbody tr th {\n",
       "        vertical-align: top;\n",
       "    }\n",
       "\n",
       "    .dataframe thead th {\n",
       "        text-align: right;\n",
       "    }\n",
       "</style>\n",
       "<table border=\"1\" class=\"dataframe\">\n",
       "  <thead>\n",
       "    <tr style=\"text-align: right;\">\n",
       "      <th></th>\n",
       "      <th>url</th>\n",
       "      <th>WeekID</th>\n",
       "      <th>Week Position</th>\n",
       "      <th>Song</th>\n",
       "      <th>Performer</th>\n",
       "      <th>SongID</th>\n",
       "      <th>Instance</th>\n",
       "      <th>Previous Week Position</th>\n",
       "      <th>Peak Position</th>\n",
       "      <th>Weeks on Chart</th>\n",
       "    </tr>\n",
       "  </thead>\n",
       "  <tbody>\n",
       "    <tr>\n",
       "      <th>0</th>\n",
       "      <td>http://www.billboard.com/charts/hot-100/1958-0...</td>\n",
       "      <td>1958-08-02</td>\n",
       "      <td>1</td>\n",
       "      <td>Poor Little Fool</td>\n",
       "      <td>Ricky Nelson</td>\n",
       "      <td>Poor Little FoolRicky Nelson</td>\n",
       "      <td>1</td>\n",
       "      <td>NaN</td>\n",
       "      <td>1</td>\n",
       "      <td>1</td>\n",
       "    </tr>\n",
       "    <tr>\n",
       "      <th>1</th>\n",
       "      <td>http://www.billboard.com/charts/hot-100/1995-1...</td>\n",
       "      <td>1995-12-02</td>\n",
       "      <td>1</td>\n",
       "      <td>One Sweet Day</td>\n",
       "      <td>Mariah Carey &amp; Boyz II Men</td>\n",
       "      <td>One Sweet DayMariah Carey &amp; Boyz II Men</td>\n",
       "      <td>1</td>\n",
       "      <td>NaN</td>\n",
       "      <td>1</td>\n",
       "      <td>1</td>\n",
       "    </tr>\n",
       "    <tr>\n",
       "      <th>2</th>\n",
       "      <td>http://www.billboard.com/charts/hot-100/1997-1...</td>\n",
       "      <td>1997-10-11</td>\n",
       "      <td>1</td>\n",
       "      <td>Candle In The Wind 1997/Something About The Wa...</td>\n",
       "      <td>Elton John</td>\n",
       "      <td>Candle In The Wind 1997/Something About The Wa...</td>\n",
       "      <td>1</td>\n",
       "      <td>NaN</td>\n",
       "      <td>1</td>\n",
       "      <td>1</td>\n",
       "    </tr>\n",
       "    <tr>\n",
       "      <th>3</th>\n",
       "      <td>http://www.billboard.com/charts/hot-100/2006-0...</td>\n",
       "      <td>2006-07-01</td>\n",
       "      <td>1</td>\n",
       "      <td>Do I Make You Proud</td>\n",
       "      <td>Taylor Hicks</td>\n",
       "      <td>Do I Make You ProudTaylor Hicks</td>\n",
       "      <td>1</td>\n",
       "      <td>NaN</td>\n",
       "      <td>1</td>\n",
       "      <td>1</td>\n",
       "    </tr>\n",
       "    <tr>\n",
       "      <th>4</th>\n",
       "      <td>http://www.billboard.com/charts/hot-100/2009-1...</td>\n",
       "      <td>2009-10-24</td>\n",
       "      <td>1</td>\n",
       "      <td>3</td>\n",
       "      <td>Britney Spears</td>\n",
       "      <td>3Britney Spears</td>\n",
       "      <td>1</td>\n",
       "      <td>NaN</td>\n",
       "      <td>1</td>\n",
       "      <td>1</td>\n",
       "    </tr>\n",
       "    <tr>\n",
       "      <th>...</th>\n",
       "      <td>...</td>\n",
       "      <td>...</td>\n",
       "      <td>...</td>\n",
       "      <td>...</td>\n",
       "      <td>...</td>\n",
       "      <td>...</td>\n",
       "      <td>...</td>\n",
       "      <td>...</td>\n",
       "      <td>...</td>\n",
       "      <td>...</td>\n",
       "    </tr>\n",
       "    <tr>\n",
       "      <th>320490</th>\n",
       "      <td>https://www.billboard.com/charts/hot-100/2019-...</td>\n",
       "      <td>2019-01-05</td>\n",
       "      <td>8</td>\n",
       "      <td>Jingle Bell Rock</td>\n",
       "      <td>Bobby Helms</td>\n",
       "      <td>Jingle Bell RockBobby Helms</td>\n",
       "      <td>7</td>\n",
       "      <td>13.0</td>\n",
       "      <td>8</td>\n",
       "      <td>25</td>\n",
       "    </tr>\n",
       "    <tr>\n",
       "      <th>320491</th>\n",
       "      <td>https://www.billboard.com/charts/hot-100/2019-...</td>\n",
       "      <td>2019-12-07</td>\n",
       "      <td>47</td>\n",
       "      <td>Jingle Bell Rock</td>\n",
       "      <td>Bobby Helms</td>\n",
       "      <td>Jingle Bell RockBobby Helms</td>\n",
       "      <td>8</td>\n",
       "      <td>NaN</td>\n",
       "      <td>47</td>\n",
       "      <td>26</td>\n",
       "    </tr>\n",
       "    <tr>\n",
       "      <th>320492</th>\n",
       "      <td>https://www.billboard.com/charts/hot-100/2019-...</td>\n",
       "      <td>2019-12-14</td>\n",
       "      <td>23</td>\n",
       "      <td>Jingle Bell Rock</td>\n",
       "      <td>Bobby Helms</td>\n",
       "      <td>Jingle Bell RockBobby Helms</td>\n",
       "      <td>8</td>\n",
       "      <td>47.0</td>\n",
       "      <td>23</td>\n",
       "      <td>27</td>\n",
       "    </tr>\n",
       "    <tr>\n",
       "      <th>320493</th>\n",
       "      <td>https://www.billboard.com/charts/hot-100/2019-...</td>\n",
       "      <td>2019-12-21</td>\n",
       "      <td>15</td>\n",
       "      <td>Jingle Bell Rock</td>\n",
       "      <td>Bobby Helms</td>\n",
       "      <td>Jingle Bell RockBobby Helms</td>\n",
       "      <td>8</td>\n",
       "      <td>23.0</td>\n",
       "      <td>15</td>\n",
       "      <td>28</td>\n",
       "    </tr>\n",
       "    <tr>\n",
       "      <th>320494</th>\n",
       "      <td>https://www.billboard.com/charts/hot-100/2019-...</td>\n",
       "      <td>2019-12-28</td>\n",
       "      <td>9</td>\n",
       "      <td>Jingle Bell Rock</td>\n",
       "      <td>Bobby Helms</td>\n",
       "      <td>Jingle Bell RockBobby Helms</td>\n",
       "      <td>8</td>\n",
       "      <td>15.0</td>\n",
       "      <td>9</td>\n",
       "      <td>29</td>\n",
       "    </tr>\n",
       "  </tbody>\n",
       "</table>\n",
       "<p>320495 rows × 10 columns</p>\n",
       "</div>"
      ],
      "text/plain": [
       "                                                      url     WeekID  \\\n",
       "0       http://www.billboard.com/charts/hot-100/1958-0... 1958-08-02   \n",
       "1       http://www.billboard.com/charts/hot-100/1995-1... 1995-12-02   \n",
       "2       http://www.billboard.com/charts/hot-100/1997-1... 1997-10-11   \n",
       "3       http://www.billboard.com/charts/hot-100/2006-0... 2006-07-01   \n",
       "4       http://www.billboard.com/charts/hot-100/2009-1... 2009-10-24   \n",
       "...                                                   ...        ...   \n",
       "320490  https://www.billboard.com/charts/hot-100/2019-... 2019-01-05   \n",
       "320491  https://www.billboard.com/charts/hot-100/2019-... 2019-12-07   \n",
       "320492  https://www.billboard.com/charts/hot-100/2019-... 2019-12-14   \n",
       "320493  https://www.billboard.com/charts/hot-100/2019-... 2019-12-21   \n",
       "320494  https://www.billboard.com/charts/hot-100/2019-... 2019-12-28   \n",
       "\n",
       "        Week Position                                               Song  \\\n",
       "0                   1                                   Poor Little Fool   \n",
       "1                   1                                      One Sweet Day   \n",
       "2                   1  Candle In The Wind 1997/Something About The Wa...   \n",
       "3                   1                                Do I Make You Proud   \n",
       "4                   1                                                  3   \n",
       "...               ...                                                ...   \n",
       "320490              8                                   Jingle Bell Rock   \n",
       "320491             47                                   Jingle Bell Rock   \n",
       "320492             23                                   Jingle Bell Rock   \n",
       "320493             15                                   Jingle Bell Rock   \n",
       "320494              9                                   Jingle Bell Rock   \n",
       "\n",
       "                         Performer  \\\n",
       "0                     Ricky Nelson   \n",
       "1       Mariah Carey & Boyz II Men   \n",
       "2                       Elton John   \n",
       "3                     Taylor Hicks   \n",
       "4                   Britney Spears   \n",
       "...                            ...   \n",
       "320490                 Bobby Helms   \n",
       "320491                 Bobby Helms   \n",
       "320492                 Bobby Helms   \n",
       "320493                 Bobby Helms   \n",
       "320494                 Bobby Helms   \n",
       "\n",
       "                                                   SongID  Instance  \\\n",
       "0                            Poor Little FoolRicky Nelson         1   \n",
       "1                 One Sweet DayMariah Carey & Boyz II Men         1   \n",
       "2       Candle In The Wind 1997/Something About The Wa...         1   \n",
       "3                         Do I Make You ProudTaylor Hicks         1   \n",
       "4                                         3Britney Spears         1   \n",
       "...                                                   ...       ...   \n",
       "320490                        Jingle Bell RockBobby Helms         7   \n",
       "320491                        Jingle Bell RockBobby Helms         8   \n",
       "320492                        Jingle Bell RockBobby Helms         8   \n",
       "320493                        Jingle Bell RockBobby Helms         8   \n",
       "320494                        Jingle Bell RockBobby Helms         8   \n",
       "\n",
       "        Previous Week Position  Peak Position  Weeks on Chart  \n",
       "0                          NaN              1               1  \n",
       "1                          NaN              1               1  \n",
       "2                          NaN              1               1  \n",
       "3                          NaN              1               1  \n",
       "4                          NaN              1               1  \n",
       "...                        ...            ...             ...  \n",
       "320490                    13.0              8              25  \n",
       "320491                     NaN             47              26  \n",
       "320492                    47.0             23              27  \n",
       "320493                    23.0             15              28  \n",
       "320494                    15.0              9              29  \n",
       "\n",
       "[320495 rows x 10 columns]"
      ]
     },
     "execution_count": 24,
     "metadata": {},
     "output_type": "execute_result"
    }
   ],
   "source": [
    "hits"
   ]
  },
  {
   "cell_type": "code",
   "execution_count": 25,
   "metadata": {},
   "outputs": [],
   "source": [
    "unique_hits = hits.drop_duplicates(subset='Song')"
   ]
  },
  {
   "cell_type": "code",
   "execution_count": 26,
   "metadata": {},
   "outputs": [],
   "source": [
    "unique_hits = unique_hits[['Song', 'Performer', 'WeekID']]"
   ]
  },
  {
   "cell_type": "code",
   "execution_count": 27,
   "metadata": {},
   "outputs": [],
   "source": [
    "hit_weights = dict(hits.Song.value_counts())"
   ]
  },
  {
   "cell_type": "code",
   "execution_count": 28,
   "metadata": {},
   "outputs": [],
   "source": [
    "unique_hits['Weight'] = [hit_weights[song] for song in unique_hits.Song]"
   ]
  },
  {
   "cell_type": "code",
   "execution_count": 29,
   "metadata": {},
   "outputs": [
    {
     "data": {
      "text/html": [
       "<div>\n",
       "<style scoped>\n",
       "    .dataframe tbody tr th:only-of-type {\n",
       "        vertical-align: middle;\n",
       "    }\n",
       "\n",
       "    .dataframe tbody tr th {\n",
       "        vertical-align: top;\n",
       "    }\n",
       "\n",
       "    .dataframe thead th {\n",
       "        text-align: right;\n",
       "    }\n",
       "</style>\n",
       "<table border=\"1\" class=\"dataframe\">\n",
       "  <thead>\n",
       "    <tr style=\"text-align: right;\">\n",
       "      <th></th>\n",
       "      <th>Song</th>\n",
       "      <th>Performer</th>\n",
       "      <th>WeekID</th>\n",
       "      <th>Weight</th>\n",
       "    </tr>\n",
       "  </thead>\n",
       "  <tbody>\n",
       "    <tr>\n",
       "      <th>0</th>\n",
       "      <td>Poor Little Fool</td>\n",
       "      <td>Ricky Nelson</td>\n",
       "      <td>1958-08-02</td>\n",
       "      <td>11</td>\n",
       "    </tr>\n",
       "    <tr>\n",
       "      <th>1</th>\n",
       "      <td>One Sweet Day</td>\n",
       "      <td>Mariah Carey &amp; Boyz II Men</td>\n",
       "      <td>1995-12-02</td>\n",
       "      <td>27</td>\n",
       "    </tr>\n",
       "    <tr>\n",
       "      <th>2</th>\n",
       "      <td>Candle In The Wind 1997/Something About The Wa...</td>\n",
       "      <td>Elton John</td>\n",
       "      <td>1997-10-11</td>\n",
       "      <td>42</td>\n",
       "    </tr>\n",
       "    <tr>\n",
       "      <th>3</th>\n",
       "      <td>Do I Make You Proud</td>\n",
       "      <td>Taylor Hicks</td>\n",
       "      <td>2006-07-01</td>\n",
       "      <td>8</td>\n",
       "    </tr>\n",
       "    <tr>\n",
       "      <th>4</th>\n",
       "      <td>3</td>\n",
       "      <td>Britney Spears</td>\n",
       "      <td>2009-10-24</td>\n",
       "      <td>20</td>\n",
       "    </tr>\n",
       "    <tr>\n",
       "      <th>...</th>\n",
       "      <td>...</td>\n",
       "      <td>...</td>\n",
       "      <td>...</td>\n",
       "      <td>...</td>\n",
       "    </tr>\n",
       "    <tr>\n",
       "      <th>302047</th>\n",
       "      <td>What'd I Say (Part I &amp; II)</td>\n",
       "      <td>Ray Charles and his Orchestra</td>\n",
       "      <td>1959-07-04</td>\n",
       "      <td>15</td>\n",
       "    </tr>\n",
       "    <tr>\n",
       "      <th>302062</th>\n",
       "      <td>What'd I Say</td>\n",
       "      <td>Elvis Presley With The Jubilee Four And Carole...</td>\n",
       "      <td>1964-05-23</td>\n",
       "      <td>19</td>\n",
       "    </tr>\n",
       "    <tr>\n",
       "      <th>302081</th>\n",
       "      <td>What'd You Come Here For?</td>\n",
       "      <td>Trina &amp; Tamara</td>\n",
       "      <td>1999-04-03</td>\n",
       "      <td>12</td>\n",
       "    </tr>\n",
       "    <tr>\n",
       "      <th>302093</th>\n",
       "      <td>What's A Guy Gotta Do</td>\n",
       "      <td>Joe Nichols</td>\n",
       "      <td>2005-02-26</td>\n",
       "      <td>15</td>\n",
       "    </tr>\n",
       "    <tr>\n",
       "      <th>302108</th>\n",
       "      <td>What's A Matter Baby (Is It Hurting You)</td>\n",
       "      <td>Timi Yuro</td>\n",
       "      <td>1962-07-14</td>\n",
       "      <td>11</td>\n",
       "    </tr>\n",
       "  </tbody>\n",
       "</table>\n",
       "<p>23624 rows × 4 columns</p>\n",
       "</div>"
      ],
      "text/plain": [
       "                                                     Song  \\\n",
       "0                                        Poor Little Fool   \n",
       "1                                           One Sweet Day   \n",
       "2       Candle In The Wind 1997/Something About The Wa...   \n",
       "3                                     Do I Make You Proud   \n",
       "4                                                       3   \n",
       "...                                                   ...   \n",
       "302047                         What'd I Say (Part I & II)   \n",
       "302062                                       What'd I Say   \n",
       "302081                          What'd You Come Here For?   \n",
       "302093                              What's A Guy Gotta Do   \n",
       "302108           What's A Matter Baby (Is It Hurting You)   \n",
       "\n",
       "                                                Performer     WeekID  Weight  \n",
       "0                                            Ricky Nelson 1958-08-02      11  \n",
       "1                              Mariah Carey & Boyz II Men 1995-12-02      27  \n",
       "2                                              Elton John 1997-10-11      42  \n",
       "3                                            Taylor Hicks 2006-07-01       8  \n",
       "4                                          Britney Spears 2009-10-24      20  \n",
       "...                                                   ...        ...     ...  \n",
       "302047                      Ray Charles and his Orchestra 1959-07-04      15  \n",
       "302062  Elvis Presley With The Jubilee Four And Carole... 1964-05-23      19  \n",
       "302081                                     Trina & Tamara 1999-04-03      12  \n",
       "302093                                        Joe Nichols 2005-02-26      15  \n",
       "302108                                          Timi Yuro 1962-07-14      11  \n",
       "\n",
       "[23624 rows x 4 columns]"
      ]
     },
     "execution_count": 29,
     "metadata": {},
     "output_type": "execute_result"
    }
   ],
   "source": [
    "unique_hits"
   ]
  },
  {
   "cell_type": "code",
   "execution_count": 30,
   "metadata": {},
   "outputs": [],
   "source": [
    "hits_tracks = list(unique_hits.Song)"
   ]
  },
  {
   "cell_type": "code",
   "execution_count": 31,
   "metadata": {},
   "outputs": [],
   "source": [
    "hits_artists = list(unique_hits.Performer)"
   ]
  },
  {
   "cell_type": "code",
   "execution_count": 32,
   "metadata": {},
   "outputs": [],
   "source": [
    "hits_years = list(unique_hits.WeekID.apply(lambda x: x.year))"
   ]
  },
  {
   "cell_type": "markdown",
   "metadata": {},
   "source": [
    "## Get other tracks ids"
   ]
  },
  {
   "cell_type": "code",
   "execution_count": 5,
   "metadata": {},
   "outputs": [],
   "source": [
    "def getRandomByYear(year, num_tracks):\n",
    "    ids = []\n",
    "    while len(ids) < num_tracks:\n",
    "        rand_offset = round(random.random()*2000)\n",
    "        random_letter = random.choice(string.ascii_lowercase)\n",
    "        if rand_offset % 2 == 0:\n",
    "            rand_query = '%' + random_letter + '%'\n",
    "        else:\n",
    "            rand_query = random_letter + '%'\n",
    "        try:\n",
    "            result = sp.search(q=f'{rand_query} year:{year}', type='track', limit=1, offset=rand_offset)\n",
    "            ids += [result['tracks']['items'][0]['id'] for j in range(len(result['tracks']['items']))]\n",
    "        except:\n",
    "            continue\n",
    "    print(year)\n",
    "    return ids"
   ]
  },
  {
   "cell_type": "code",
   "execution_count": 40,
   "metadata": {},
   "outputs": [],
   "source": [
    "def getIDfromsearch(track_name, year):\n",
    "    \n",
    "    if '/' in track_name:\n",
    "        track_name = track_name.split('/')[0]\n",
    "    result = sp.search(q=f'track:{track_name} year:{year}', type='track', limit=1)\n",
    "    if result['tracks']['items'] == []:\n",
    "        result = sp.search(q=f'track:{track_name} year:{year-1}', type='track', limit=1)\n",
    "    idd = result['tracks']['items'][0]['id']\n",
    "    return idd"
   ]
  },
  {
   "cell_type": "code",
   "execution_count": 41,
   "metadata": {},
   "outputs": [],
   "source": [
    "hits_ids = []\n",
    "idx_fail = []"
   ]
  },
  {
   "cell_type": "code",
   "execution_count": 32,
   "metadata": {},
   "outputs": [
    {
     "name": "stdout",
     "output_type": "stream",
     "text": [
      "23623\n",
      "[=========-] 100.00%\n"
     ]
    }
   ],
   "source": [
    "time_bar = \"[,-,-,-,-,-,-,-,-,-,-,]\"\n",
    "time_bar_display = \"[----------]\"\n",
    "for i in range(len(unique_hits)):\n",
    "    clear_output(wait=True)\n",
    "    portion = (len(unique_hits)/10)\n",
    "    if i >= portion:\n",
    "        time_bar = time_bar.split(',')\n",
    "        time_bar[int(i/portion)] = \"=\"\n",
    "        time_bar_display = ''.join(time_bar)\n",
    "        time_bar = ','.join(time_bar)\n",
    "    print(i)\n",
    "    print(f'{time_bar_display} {i/len(unique_hits):.2%}')\n",
    "    try:\n",
    "        hits_ids.append(getIDfromsearch(hits_tracks[i], hits_years[i]))\n",
    "    except:\n",
    "        idx_fail.append(i)\n",
    "        continue"
   ]
  },
  {
   "cell_type": "code",
   "execution_count": 35,
   "metadata": {},
   "outputs": [
    {
     "data": {
      "text/plain": [
       "24430"
      ]
     },
     "execution_count": 35,
     "metadata": {},
     "output_type": "execute_result"
    }
   ],
   "source": [
    "len(hits_ids)"
   ]
  },
  {
   "cell_type": "code",
   "execution_count": 44,
   "metadata": {},
   "outputs": [],
   "source": [
    "test_hits_ids = pd.DataFrame(hits_ids)"
   ]
  },
  {
   "cell_type": "code",
   "execution_count": 47,
   "metadata": {},
   "outputs": [],
   "source": [
    "test_hits_ids.drop_duplicates(inplace=True)"
   ]
  },
  {
   "cell_type": "code",
   "execution_count": 53,
   "metadata": {},
   "outputs": [],
   "source": [
    "hits_ids = [''.join(arr) for arr in test_hits_ids.values]"
   ]
  },
  {
   "cell_type": "code",
   "execution_count": 55,
   "metadata": {
    "scrolled": true
   },
   "outputs": [
    {
     "data": {
      "text/plain": [
       "17838"
      ]
     },
     "execution_count": 55,
     "metadata": {},
     "output_type": "execute_result"
    }
   ],
   "source": [
    "len(hits_ids)"
   ]
  },
  {
   "cell_type": "code",
   "execution_count": 56,
   "metadata": {},
   "outputs": [],
   "source": [
    "with open('hits_ids.pkl', 'wb') as file:\n",
    "    pickle.dump(hits_ids, file)"
   ]
  },
  {
   "cell_type": "code",
   "execution_count": null,
   "metadata": {},
   "outputs": [],
   "source": []
  },
  {
   "cell_type": "code",
   "execution_count": 6,
   "metadata": {},
   "outputs": [],
   "source": [
    "years = np.arange(1958, 2019)"
   ]
  },
  {
   "cell_type": "code",
   "execution_count": 7,
   "metadata": {
    "scrolled": true
   },
   "outputs": [
    {
     "name": "stdout",
     "output_type": "stream",
     "text": [
      "1958\n",
      "1959\n",
      "1960\n",
      "1961\n",
      "1962\n",
      "1963\n"
     ]
    },
    {
     "name": "stderr",
     "output_type": "stream",
     "text": [
      "HTTP Error for GET to https://api.spotify.com/v1/search returned 404 due to Not found.\n"
     ]
    },
    {
     "name": "stdout",
     "output_type": "stream",
     "text": [
      "1964\n"
     ]
    },
    {
     "name": "stderr",
     "output_type": "stream",
     "text": [
      "HTTP Error for GET to https://api.spotify.com/v1/search returned 404 due to Not found.\n"
     ]
    },
    {
     "name": "stdout",
     "output_type": "stream",
     "text": [
      "1965\n",
      "1966\n",
      "1967\n"
     ]
    },
    {
     "name": "stderr",
     "output_type": "stream",
     "text": [
      "HTTP Error for GET to https://api.spotify.com/v1/search returned 404 due to Not found.\n",
      "HTTP Error for GET to https://api.spotify.com/v1/search returned 404 due to Not found.\n"
     ]
    },
    {
     "name": "stdout",
     "output_type": "stream",
     "text": [
      "1968\n"
     ]
    },
    {
     "name": "stderr",
     "output_type": "stream",
     "text": [
      "HTTP Error for GET to https://api.spotify.com/v1/search returned 404 due to Not found.\n",
      "HTTP Error for GET to https://api.spotify.com/v1/search returned 404 due to Not found.\n",
      "HTTP Error for GET to https://api.spotify.com/v1/search returned 404 due to Not found.\n",
      "HTTP Error for GET to https://api.spotify.com/v1/search returned 404 due to Not found.\n"
     ]
    },
    {
     "name": "stdout",
     "output_type": "stream",
     "text": [
      "1969\n",
      "1970\n"
     ]
    },
    {
     "name": "stderr",
     "output_type": "stream",
     "text": [
      "HTTP Error for GET to https://api.spotify.com/v1/search returned 404 due to Not found.\n"
     ]
    },
    {
     "name": "stdout",
     "output_type": "stream",
     "text": [
      "1971\n"
     ]
    },
    {
     "name": "stderr",
     "output_type": "stream",
     "text": [
      "HTTP Error for GET to https://api.spotify.com/v1/search returned 404 due to Not found.\n"
     ]
    },
    {
     "name": "stdout",
     "output_type": "stream",
     "text": [
      "1972\n",
      "1973\n",
      "1974\n",
      "1975\n"
     ]
    },
    {
     "name": "stderr",
     "output_type": "stream",
     "text": [
      "HTTP Error for GET to https://api.spotify.com/v1/search returned 404 due to Not found.\n"
     ]
    },
    {
     "name": "stdout",
     "output_type": "stream",
     "text": [
      "1976\n"
     ]
    },
    {
     "name": "stderr",
     "output_type": "stream",
     "text": [
      "HTTP Error for GET to https://api.spotify.com/v1/search returned 404 due to Not found.\n",
      "HTTP Error for GET to https://api.spotify.com/v1/search returned 404 due to Not found.\n",
      "HTTP Error for GET to https://api.spotify.com/v1/search returned 404 due to Not found.\n"
     ]
    },
    {
     "name": "stdout",
     "output_type": "stream",
     "text": [
      "1977\n",
      "1978\n"
     ]
    },
    {
     "name": "stderr",
     "output_type": "stream",
     "text": [
      "HTTP Error for GET to https://api.spotify.com/v1/search returned 404 due to Not found.\n"
     ]
    },
    {
     "name": "stdout",
     "output_type": "stream",
     "text": [
      "1979\n"
     ]
    },
    {
     "name": "stderr",
     "output_type": "stream",
     "text": [
      "HTTP Error for GET to https://api.spotify.com/v1/search returned 404 due to Not found.\n"
     ]
    },
    {
     "name": "stdout",
     "output_type": "stream",
     "text": [
      "1980\n"
     ]
    },
    {
     "name": "stderr",
     "output_type": "stream",
     "text": [
      "HTTP Error for GET to https://api.spotify.com/v1/search returned 404 due to Not found.\n"
     ]
    },
    {
     "name": "stdout",
     "output_type": "stream",
     "text": [
      "1981\n"
     ]
    },
    {
     "name": "stderr",
     "output_type": "stream",
     "text": [
      "HTTP Error for GET to https://api.spotify.com/v1/search returned 404 due to Not found.\n"
     ]
    },
    {
     "name": "stdout",
     "output_type": "stream",
     "text": [
      "1982\n"
     ]
    },
    {
     "name": "stderr",
     "output_type": "stream",
     "text": [
      "HTTP Error for GET to https://api.spotify.com/v1/search returned 404 due to Not found.\n",
      "HTTP Error for GET to https://api.spotify.com/v1/search returned 404 due to Not found.\n"
     ]
    },
    {
     "name": "stdout",
     "output_type": "stream",
     "text": [
      "1983\n"
     ]
    },
    {
     "name": "stderr",
     "output_type": "stream",
     "text": [
      "HTTP Error for GET to https://api.spotify.com/v1/search returned 404 due to Not found.\n"
     ]
    },
    {
     "name": "stdout",
     "output_type": "stream",
     "text": [
      "1984\n"
     ]
    },
    {
     "name": "stderr",
     "output_type": "stream",
     "text": [
      "HTTP Error for GET to https://api.spotify.com/v1/search returned 404 due to Not found.\n",
      "HTTP Error for GET to https://api.spotify.com/v1/search returned 404 due to Not found.\n",
      "HTTP Error for GET to https://api.spotify.com/v1/search returned 404 due to Not found.\n"
     ]
    },
    {
     "name": "stdout",
     "output_type": "stream",
     "text": [
      "1985\n"
     ]
    },
    {
     "name": "stderr",
     "output_type": "stream",
     "text": [
      "HTTP Error for GET to https://api.spotify.com/v1/search returned 404 due to Not found.\n"
     ]
    },
    {
     "name": "stdout",
     "output_type": "stream",
     "text": [
      "1986\n"
     ]
    },
    {
     "name": "stderr",
     "output_type": "stream",
     "text": [
      "HTTP Error for GET to https://api.spotify.com/v1/search returned 404 due to Not found.\n",
      "HTTP Error for GET to https://api.spotify.com/v1/search returned 404 due to Not found.\n",
      "HTTP Error for GET to https://api.spotify.com/v1/search returned 404 due to Not found.\n"
     ]
    },
    {
     "name": "stdout",
     "output_type": "stream",
     "text": [
      "1987\n"
     ]
    },
    {
     "name": "stderr",
     "output_type": "stream",
     "text": [
      "HTTP Error for GET to https://api.spotify.com/v1/search returned 404 due to Not found.\n",
      "HTTP Error for GET to https://api.spotify.com/v1/search returned 404 due to Not found.\n",
      "HTTP Error for GET to https://api.spotify.com/v1/search returned 404 due to Not found.\n"
     ]
    },
    {
     "name": "stdout",
     "output_type": "stream",
     "text": [
      "1988\n"
     ]
    },
    {
     "name": "stderr",
     "output_type": "stream",
     "text": [
      "HTTP Error for GET to https://api.spotify.com/v1/search returned 404 due to Not found.\n",
      "HTTP Error for GET to https://api.spotify.com/v1/search returned 404 due to Not found.\n"
     ]
    },
    {
     "name": "stdout",
     "output_type": "stream",
     "text": [
      "1989\n"
     ]
    },
    {
     "name": "stderr",
     "output_type": "stream",
     "text": [
      "HTTP Error for GET to https://api.spotify.com/v1/search returned 404 due to Not found.\n",
      "HTTP Error for GET to https://api.spotify.com/v1/search returned 404 due to Not found.\n"
     ]
    },
    {
     "name": "stdout",
     "output_type": "stream",
     "text": [
      "1990\n"
     ]
    },
    {
     "name": "stderr",
     "output_type": "stream",
     "text": [
      "HTTP Error for GET to https://api.spotify.com/v1/search returned 404 due to Not found.\n",
      "HTTP Error for GET to https://api.spotify.com/v1/search returned 404 due to Not found.\n"
     ]
    },
    {
     "name": "stdout",
     "output_type": "stream",
     "text": [
      "1991\n"
     ]
    },
    {
     "name": "stderr",
     "output_type": "stream",
     "text": [
      "HTTP Error for GET to https://api.spotify.com/v1/search returned 404 due to Not found.\n"
     ]
    },
    {
     "name": "stdout",
     "output_type": "stream",
     "text": [
      "1992\n"
     ]
    },
    {
     "name": "stderr",
     "output_type": "stream",
     "text": [
      "HTTP Error for GET to https://api.spotify.com/v1/search returned 404 due to Not found.\n"
     ]
    },
    {
     "name": "stdout",
     "output_type": "stream",
     "text": [
      "1993\n",
      "1994\n"
     ]
    },
    {
     "name": "stderr",
     "output_type": "stream",
     "text": [
      "HTTP Error for GET to https://api.spotify.com/v1/search returned 404 due to Not found.\n",
      "HTTP Error for GET to https://api.spotify.com/v1/search returned 404 due to Not found.\n"
     ]
    },
    {
     "name": "stdout",
     "output_type": "stream",
     "text": [
      "1995\n"
     ]
    },
    {
     "name": "stderr",
     "output_type": "stream",
     "text": [
      "HTTP Error for GET to https://api.spotify.com/v1/search returned 404 due to Not found.\n",
      "HTTP Error for GET to https://api.spotify.com/v1/search returned 404 due to Not found.\n",
      "HTTP Error for GET to https://api.spotify.com/v1/search returned 404 due to Not found.\n"
     ]
    },
    {
     "name": "stdout",
     "output_type": "stream",
     "text": [
      "1996\n"
     ]
    },
    {
     "name": "stderr",
     "output_type": "stream",
     "text": [
      "HTTP Error for GET to https://api.spotify.com/v1/search returned 404 due to Not found.\n",
      "HTTP Error for GET to https://api.spotify.com/v1/search returned 404 due to Not found.\n",
      "HTTP Error for GET to https://api.spotify.com/v1/search returned 404 due to Not found.\n"
     ]
    },
    {
     "name": "stdout",
     "output_type": "stream",
     "text": [
      "1997\n"
     ]
    },
    {
     "name": "stderr",
     "output_type": "stream",
     "text": [
      "HTTP Error for GET to https://api.spotify.com/v1/search returned 404 due to Not found.\n"
     ]
    },
    {
     "name": "stdout",
     "output_type": "stream",
     "text": [
      "1998\n"
     ]
    },
    {
     "name": "stderr",
     "output_type": "stream",
     "text": [
      "HTTP Error for GET to https://api.spotify.com/v1/search returned 404 due to Not found.\n"
     ]
    },
    {
     "name": "stdout",
     "output_type": "stream",
     "text": [
      "1999\n",
      "2000\n"
     ]
    },
    {
     "name": "stderr",
     "output_type": "stream",
     "text": [
      "HTTP Error for GET to https://api.spotify.com/v1/search returned 404 due to Not found.\n"
     ]
    },
    {
     "name": "stdout",
     "output_type": "stream",
     "text": [
      "2001\n"
     ]
    },
    {
     "name": "stderr",
     "output_type": "stream",
     "text": [
      "HTTP Error for GET to https://api.spotify.com/v1/search returned 404 due to Not found.\n"
     ]
    },
    {
     "name": "stdout",
     "output_type": "stream",
     "text": [
      "2002\n",
      "2003\n"
     ]
    },
    {
     "name": "stderr",
     "output_type": "stream",
     "text": [
      "HTTP Error for GET to https://api.spotify.com/v1/search returned 404 due to Not found.\n",
      "HTTP Error for GET to https://api.spotify.com/v1/search returned 404 due to Not found.\n"
     ]
    },
    {
     "name": "stdout",
     "output_type": "stream",
     "text": [
      "2004\n",
      "2005\n",
      "2006\n"
     ]
    },
    {
     "name": "stderr",
     "output_type": "stream",
     "text": [
      "HTTP Error for GET to https://api.spotify.com/v1/search returned 404 due to Not found.\n"
     ]
    },
    {
     "name": "stdout",
     "output_type": "stream",
     "text": [
      "2007\n"
     ]
    },
    {
     "name": "stderr",
     "output_type": "stream",
     "text": [
      "HTTP Error for GET to https://api.spotify.com/v1/search returned 404 due to Not found.\n",
      "HTTP Error for GET to https://api.spotify.com/v1/search returned 404 due to Not found.\n"
     ]
    },
    {
     "name": "stdout",
     "output_type": "stream",
     "text": [
      "2008\n"
     ]
    },
    {
     "name": "stderr",
     "output_type": "stream",
     "text": [
      "HTTP Error for GET to https://api.spotify.com/v1/search returned 404 due to Not found.\n"
     ]
    },
    {
     "name": "stdout",
     "output_type": "stream",
     "text": [
      "2009\n"
     ]
    },
    {
     "name": "stderr",
     "output_type": "stream",
     "text": [
      "HTTP Error for GET to https://api.spotify.com/v1/search returned 404 due to Not found.\n"
     ]
    },
    {
     "name": "stdout",
     "output_type": "stream",
     "text": [
      "2010\n",
      "2011\n"
     ]
    },
    {
     "name": "stderr",
     "output_type": "stream",
     "text": [
      "HTTP Error for GET to https://api.spotify.com/v1/search returned 404 due to Not found.\n",
      "HTTP Error for GET to https://api.spotify.com/v1/search returned 404 due to Not found.\n",
      "HTTP Error for GET to https://api.spotify.com/v1/search returned 404 due to Not found.\n"
     ]
    },
    {
     "name": "stdout",
     "output_type": "stream",
     "text": [
      "2012\n"
     ]
    },
    {
     "name": "stderr",
     "output_type": "stream",
     "text": [
      "HTTP Error for GET to https://api.spotify.com/v1/search returned 404 due to Not found.\n"
     ]
    },
    {
     "name": "stdout",
     "output_type": "stream",
     "text": [
      "2013\n",
      "2014\n"
     ]
    },
    {
     "name": "stderr",
     "output_type": "stream",
     "text": [
      "HTTP Error for GET to https://api.spotify.com/v1/search returned 404 due to Not found.\n",
      "HTTP Error for GET to https://api.spotify.com/v1/search returned 404 due to Not found.\n",
      "HTTP Error for GET to https://api.spotify.com/v1/search returned 404 due to Not found.\n"
     ]
    },
    {
     "name": "stdout",
     "output_type": "stream",
     "text": [
      "2015\n"
     ]
    },
    {
     "name": "stderr",
     "output_type": "stream",
     "text": [
      "HTTP Error for GET to https://api.spotify.com/v1/search returned 404 due to Not found.\n"
     ]
    },
    {
     "name": "stdout",
     "output_type": "stream",
     "text": [
      "2016\n",
      "2017\n"
     ]
    },
    {
     "name": "stderr",
     "output_type": "stream",
     "text": [
      "HTTP Error for GET to https://api.spotify.com/v1/search returned 404 due to Not found.\n"
     ]
    },
    {
     "name": "stdout",
     "output_type": "stream",
     "text": [
      "2018\n"
     ]
    }
   ],
   "source": [
    "tracks_ids = [getRandomByYear(y, 4000) for y in years]"
   ]
  },
  {
   "cell_type": "code",
   "execution_count": 4,
   "metadata": {},
   "outputs": [],
   "source": [
    "with open('hits_ids.pkl', 'rb') as file:\n",
    "    hits_ids = pickle.load(file)"
   ]
  },
  {
   "cell_type": "code",
   "execution_count": 5,
   "metadata": {},
   "outputs": [],
   "source": [
    "with open('tracks_ids.pkl', 'rb') as file:\n",
    "    tracks_ids = pickle.load(file)"
   ]
  },
  {
   "cell_type": "code",
   "execution_count": 6,
   "metadata": {},
   "outputs": [
    {
     "data": {
      "text/plain": [
       "191627"
      ]
     },
     "execution_count": 6,
     "metadata": {},
     "output_type": "execute_result"
    }
   ],
   "source": [
    "len(tracks_ids)"
   ]
  },
  {
   "cell_type": "code",
   "execution_count": 161,
   "metadata": {},
   "outputs": [],
   "source": [
    "tracks_ids = [idd for idd in tracks_ids if idd not in hits_ids]"
   ]
  },
  {
   "cell_type": "code",
   "execution_count": 163,
   "metadata": {},
   "outputs": [
    {
     "data": {
      "text/plain": [
       "191627"
      ]
     },
     "execution_count": 163,
     "metadata": {},
     "output_type": "execute_result"
    }
   ],
   "source": [
    "len(tracks_ids)"
   ]
  },
  {
   "cell_type": "code",
   "execution_count": 164,
   "metadata": {},
   "outputs": [],
   "source": [
    "with open('tracks_ids.pkl', 'wb') as file:\n",
    "    pickle.dump(tracks_ids, file)"
   ]
  },
  {
   "cell_type": "code",
   "execution_count": null,
   "metadata": {},
   "outputs": [],
   "source": []
  },
  {
   "cell_type": "markdown",
   "metadata": {},
   "source": [
    "## Get audio features and meta-data"
   ]
  },
  {
   "cell_type": "code",
   "execution_count": 7,
   "metadata": {},
   "outputs": [],
   "source": [
    "def getTrackFeatures(ids):\n",
    "    tracks = []\n",
    "    tracks_dict = {'name':[],\n",
    "                  'album':[],\n",
    "                  'artist':[],\n",
    "                  'release_date':[],\n",
    "                  'popularity':[],\n",
    "                  'duration_ms':[],\n",
    "                  'key':[],\n",
    "                  'mode':[],\n",
    "                  'time_signature':[],\n",
    "                  'acousticness':[],\n",
    "                  'danceability':[],\n",
    "                  'energy':[],\n",
    "                  'instrumentalness':[],\n",
    "                  'liveness':[],\n",
    "                  'loudness':[],\n",
    "                  'speechiness':[],\n",
    "                  'valence':[],\n",
    "                  'tempo':[]}\n",
    "    \n",
    "    for i in range(0, len(ids), 50):\n",
    "        clear_output(wait=True)\n",
    "        meta = sp.tracks(ids[i:i+50])\n",
    "        features = sp.audio_features(ids[i:i+50])\n",
    "        try:\n",
    "            \n",
    "        # features\n",
    "\n",
    "            tracks_dict['duration_ms'] += [features[j]['duration_ms'] for j in range(min(50, len(ids)-i))]\n",
    "            tracks_dict['key'] += [features[j]['key'] for j in range(min(50, len(ids)-i))]\n",
    "            tracks_dict['mode'] += [features[j]['mode'] for j in range(min(50, len(ids)-i))]\n",
    "            tracks_dict['time_signature'] += [features[j]['time_signature'] for j in range(min(50, len(ids)-i))]  \n",
    "            tracks_dict['acousticness'] += [features[j]['acousticness'] for j in range(min(50, len(ids)-i))]   \n",
    "            tracks_dict['danceability'] += [features[j]['danceability'] for j in range(min(50, len(ids)-i))]\n",
    "            tracks_dict['energy'] += [features[j]['energy'] for j in range(min(50, len(ids)-i))]  \n",
    "            tracks_dict['instrumentalness'] += [features[j]['instrumentalness'] for j in range(min(50, len(ids)-i))]\n",
    "            tracks_dict['liveness'] += [features[j]['liveness'] for j in range(min(50, len(ids)-i))]\n",
    "            tracks_dict['loudness'] += [features[j]['loudness'] for j in range(min(50, len(ids)-i))] \n",
    "            tracks_dict['speechiness'] += [features[j]['speechiness'] for j in range(min(50, len(ids)-i))]\n",
    "            tracks_dict['valence'] += [features[j]['valence'] for j in range(min(50, len(ids)-i))]\n",
    "            tracks_dict['tempo'] += [features[j]['tempo'] for j in range(min(50, len(ids)-i))]\n",
    "            \n",
    "        # meta\n",
    "            tracks_dict['name'] += [meta['tracks'][j]['name'] for j in range(min(50, len(ids)-i))]\n",
    "            tracks_dict['album'] += [meta['tracks'][j]['album']['name'] for j in range(min(50, len(ids)-i))]\n",
    "            tracks_dict['artist'] += [meta['tracks'][j]['album']['artists'][0]['name'] for j in range(min(50, len(ids)-i))] \n",
    "            tracks_dict['release_date'] += [meta['tracks'][j]['album']['release_date'] for j in range(min(50, len(ids)-i))]\n",
    "            tracks_dict['popularity'] += [meta['tracks'][j]['popularity'] for j in range(min(50, len(ids)-i))]\n",
    "\n",
    "       \n",
    "        except:\n",
    "            continue\n",
    "\n",
    "        print(f'{i}/{len(ids)}')\n",
    "        \n",
    "    tracks = pd.DataFrame(tracks_dict)\n",
    "    return tracks"
   ]
  },
  {
   "cell_type": "code",
   "execution_count": 9,
   "metadata": {},
   "outputs": [
    {
     "name": "stdout",
     "output_type": "stream",
     "text": [
      "191600/191627\n"
     ]
    }
   ],
   "source": [
    "tracks_df = getTrackFeatures(tracks_ids)"
   ]
  },
  {
   "cell_type": "code",
   "execution_count": 10,
   "metadata": {},
   "outputs": [
    {
     "data": {
      "text/html": [
       "<div>\n",
       "<style scoped>\n",
       "    .dataframe tbody tr th:only-of-type {\n",
       "        vertical-align: middle;\n",
       "    }\n",
       "\n",
       "    .dataframe tbody tr th {\n",
       "        vertical-align: top;\n",
       "    }\n",
       "\n",
       "    .dataframe thead th {\n",
       "        text-align: right;\n",
       "    }\n",
       "</style>\n",
       "<table border=\"1\" class=\"dataframe\">\n",
       "  <thead>\n",
       "    <tr style=\"text-align: right;\">\n",
       "      <th></th>\n",
       "      <th>name</th>\n",
       "      <th>album</th>\n",
       "      <th>artist</th>\n",
       "      <th>release_date</th>\n",
       "      <th>popularity</th>\n",
       "      <th>duration_ms</th>\n",
       "      <th>key</th>\n",
       "      <th>mode</th>\n",
       "      <th>time_signature</th>\n",
       "      <th>acousticness</th>\n",
       "      <th>danceability</th>\n",
       "      <th>energy</th>\n",
       "      <th>instrumentalness</th>\n",
       "      <th>liveness</th>\n",
       "      <th>loudness</th>\n",
       "      <th>speechiness</th>\n",
       "      <th>valence</th>\n",
       "      <th>tempo</th>\n",
       "    </tr>\n",
       "  </thead>\n",
       "  <tbody>\n",
       "    <tr>\n",
       "      <th>0</th>\n",
       "      <td>Corner Man - Explicit Album Version</td>\n",
       "      <td>Last 2 Walk</td>\n",
       "      <td>Three 6 Mafia</td>\n",
       "      <td>2008-06-21</td>\n",
       "      <td>20</td>\n",
       "      <td>187480</td>\n",
       "      <td>2</td>\n",
       "      <td>1</td>\n",
       "      <td>4</td>\n",
       "      <td>0.080300</td>\n",
       "      <td>0.750</td>\n",
       "      <td>0.7830</td>\n",
       "      <td>0.000000</td>\n",
       "      <td>0.0786</td>\n",
       "      <td>-5.480</td>\n",
       "      <td>0.0720</td>\n",
       "      <td>0.274</td>\n",
       "      <td>157.057</td>\n",
       "    </tr>\n",
       "    <tr>\n",
       "      <th>1</th>\n",
       "      <td>Old Judge Jones</td>\n",
       "      <td>Say No More</td>\n",
       "      <td>Les Dudek</td>\n",
       "      <td>1977</td>\n",
       "      <td>29</td>\n",
       "      <td>278800</td>\n",
       "      <td>8</td>\n",
       "      <td>1</td>\n",
       "      <td>4</td>\n",
       "      <td>0.094400</td>\n",
       "      <td>0.629</td>\n",
       "      <td>0.6470</td>\n",
       "      <td>0.004810</td>\n",
       "      <td>0.2470</td>\n",
       "      <td>-9.260</td>\n",
       "      <td>0.0343</td>\n",
       "      <td>0.652</td>\n",
       "      <td>135.866</td>\n",
       "    </tr>\n",
       "    <tr>\n",
       "      <th>2</th>\n",
       "      <td>Endless Fantasy</td>\n",
       "      <td>Endless Fantasy</td>\n",
       "      <td>Anamanaguchi</td>\n",
       "      <td>2013-05-14</td>\n",
       "      <td>43</td>\n",
       "      <td>357785</td>\n",
       "      <td>8</td>\n",
       "      <td>1</td>\n",
       "      <td>3</td>\n",
       "      <td>0.000315</td>\n",
       "      <td>0.420</td>\n",
       "      <td>0.7310</td>\n",
       "      <td>0.025200</td>\n",
       "      <td>0.2210</td>\n",
       "      <td>-4.027</td>\n",
       "      <td>0.1030</td>\n",
       "      <td>0.293</td>\n",
       "      <td>126.692</td>\n",
       "    </tr>\n",
       "    <tr>\n",
       "      <th>3</th>\n",
       "      <td>Hope Has a Place</td>\n",
       "      <td>The Memory of Trees</td>\n",
       "      <td>Enya</td>\n",
       "      <td>1995-11-20</td>\n",
       "      <td>35</td>\n",
       "      <td>288640</td>\n",
       "      <td>11</td>\n",
       "      <td>1</td>\n",
       "      <td>4</td>\n",
       "      <td>0.954000</td>\n",
       "      <td>0.186</td>\n",
       "      <td>0.1270</td>\n",
       "      <td>0.092700</td>\n",
       "      <td>0.1090</td>\n",
       "      <td>-18.247</td>\n",
       "      <td>0.0383</td>\n",
       "      <td>0.071</td>\n",
       "      <td>70.883</td>\n",
       "    </tr>\n",
       "    <tr>\n",
       "      <th>4</th>\n",
       "      <td>Put the Needle on It - Radio Version</td>\n",
       "      <td>Neon Nights (Deluxe Version)</td>\n",
       "      <td>Dannii Minogue</td>\n",
       "      <td>2003-01-01</td>\n",
       "      <td>37</td>\n",
       "      <td>204000</td>\n",
       "      <td>6</td>\n",
       "      <td>0</td>\n",
       "      <td>4</td>\n",
       "      <td>0.014100</td>\n",
       "      <td>0.810</td>\n",
       "      <td>0.6180</td>\n",
       "      <td>0.035800</td>\n",
       "      <td>0.0970</td>\n",
       "      <td>-8.194</td>\n",
       "      <td>0.0651</td>\n",
       "      <td>0.776</td>\n",
       "      <td>120.021</td>\n",
       "    </tr>\n",
       "    <tr>\n",
       "      <th>...</th>\n",
       "      <td>...</td>\n",
       "      <td>...</td>\n",
       "      <td>...</td>\n",
       "      <td>...</td>\n",
       "      <td>...</td>\n",
       "      <td>...</td>\n",
       "      <td>...</td>\n",
       "      <td>...</td>\n",
       "      <td>...</td>\n",
       "      <td>...</td>\n",
       "      <td>...</td>\n",
       "      <td>...</td>\n",
       "      <td>...</td>\n",
       "      <td>...</td>\n",
       "      <td>...</td>\n",
       "      <td>...</td>\n",
       "      <td>...</td>\n",
       "      <td>...</td>\n",
       "    </tr>\n",
       "    <tr>\n",
       "      <th>191472</th>\n",
       "      <td>Strong All Along</td>\n",
       "      <td>Soundsystem</td>\n",
       "      <td>311</td>\n",
       "      <td>1999-10-12</td>\n",
       "      <td>30</td>\n",
       "      <td>208307</td>\n",
       "      <td>0</td>\n",
       "      <td>1</td>\n",
       "      <td>4</td>\n",
       "      <td>0.042400</td>\n",
       "      <td>0.763</td>\n",
       "      <td>0.8460</td>\n",
       "      <td>0.000000</td>\n",
       "      <td>0.0718</td>\n",
       "      <td>-6.177</td>\n",
       "      <td>0.0511</td>\n",
       "      <td>0.943</td>\n",
       "      <td>94.856</td>\n",
       "    </tr>\n",
       "    <tr>\n",
       "      <th>191473</th>\n",
       "      <td>Let It Burn</td>\n",
       "      <td>Until We Have Faces</td>\n",
       "      <td>Red</td>\n",
       "      <td>2011-02-01</td>\n",
       "      <td>56</td>\n",
       "      <td>297827</td>\n",
       "      <td>11</td>\n",
       "      <td>0</td>\n",
       "      <td>4</td>\n",
       "      <td>0.000431</td>\n",
       "      <td>0.420</td>\n",
       "      <td>0.8990</td>\n",
       "      <td>0.000245</td>\n",
       "      <td>0.2300</td>\n",
       "      <td>-5.446</td>\n",
       "      <td>0.0745</td>\n",
       "      <td>0.193</td>\n",
       "      <td>132.016</td>\n",
       "    </tr>\n",
       "    <tr>\n",
       "      <th>191474</th>\n",
       "      <td>If You Were Mine</td>\n",
       "      <td>A Home Far Away</td>\n",
       "      <td>George Howard</td>\n",
       "      <td>1994-01-01</td>\n",
       "      <td>12</td>\n",
       "      <td>296267</td>\n",
       "      <td>7</td>\n",
       "      <td>1</td>\n",
       "      <td>4</td>\n",
       "      <td>0.340000</td>\n",
       "      <td>0.649</td>\n",
       "      <td>0.5510</td>\n",
       "      <td>0.027700</td>\n",
       "      <td>0.0447</td>\n",
       "      <td>-10.241</td>\n",
       "      <td>0.0430</td>\n",
       "      <td>0.831</td>\n",
       "      <td>171.748</td>\n",
       "    </tr>\n",
       "    <tr>\n",
       "      <th>191475</th>\n",
       "      <td>El Día Que Me Quieras</td>\n",
       "      <td>Tangos, Milongas y Otras Yerbas</td>\n",
       "      <td>Victor Villadangos</td>\n",
       "      <td>1995-02-14</td>\n",
       "      <td>34</td>\n",
       "      <td>361667</td>\n",
       "      <td>2</td>\n",
       "      <td>1</td>\n",
       "      <td>4</td>\n",
       "      <td>0.990000</td>\n",
       "      <td>0.373</td>\n",
       "      <td>0.0498</td>\n",
       "      <td>0.878000</td>\n",
       "      <td>0.1410</td>\n",
       "      <td>-22.787</td>\n",
       "      <td>0.0595</td>\n",
       "      <td>0.222</td>\n",
       "      <td>79.598</td>\n",
       "    </tr>\n",
       "    <tr>\n",
       "      <th>191476</th>\n",
       "      <td>She Believes In Me</td>\n",
       "      <td>Daytime Friends: The Very Best Of Kenny Rogers</td>\n",
       "      <td>Kenny Rogers</td>\n",
       "      <td>1993-01-01</td>\n",
       "      <td>27</td>\n",
       "      <td>251667</td>\n",
       "      <td>10</td>\n",
       "      <td>1</td>\n",
       "      <td>4</td>\n",
       "      <td>0.366000</td>\n",
       "      <td>0.400</td>\n",
       "      <td>0.2900</td>\n",
       "      <td>0.000015</td>\n",
       "      <td>0.3270</td>\n",
       "      <td>-15.973</td>\n",
       "      <td>0.0326</td>\n",
       "      <td>0.314</td>\n",
       "      <td>72.756</td>\n",
       "    </tr>\n",
       "  </tbody>\n",
       "</table>\n",
       "<p>191477 rows × 18 columns</p>\n",
       "</div>"
      ],
      "text/plain": [
       "                                        name  \\\n",
       "0        Corner Man - Explicit Album Version   \n",
       "1                            Old Judge Jones   \n",
       "2                            Endless Fantasy   \n",
       "3                           Hope Has a Place   \n",
       "4       Put the Needle on It - Radio Version   \n",
       "...                                      ...   \n",
       "191472                      Strong All Along   \n",
       "191473                           Let It Burn   \n",
       "191474                      If You Were Mine   \n",
       "191475                 El Día Que Me Quieras   \n",
       "191476                    She Believes In Me   \n",
       "\n",
       "                                                 album              artist  \\\n",
       "0                                          Last 2 Walk       Three 6 Mafia   \n",
       "1                                          Say No More           Les Dudek   \n",
       "2                                      Endless Fantasy        Anamanaguchi   \n",
       "3                                  The Memory of Trees                Enya   \n",
       "4                         Neon Nights (Deluxe Version)      Dannii Minogue   \n",
       "...                                                ...                 ...   \n",
       "191472                                     Soundsystem                 311   \n",
       "191473                             Until We Have Faces                 Red   \n",
       "191474                                 A Home Far Away       George Howard   \n",
       "191475                 Tangos, Milongas y Otras Yerbas  Victor Villadangos   \n",
       "191476  Daytime Friends: The Very Best Of Kenny Rogers        Kenny Rogers   \n",
       "\n",
       "       release_date  popularity  duration_ms  key  mode  time_signature  \\\n",
       "0        2008-06-21          20       187480    2     1               4   \n",
       "1              1977          29       278800    8     1               4   \n",
       "2        2013-05-14          43       357785    8     1               3   \n",
       "3        1995-11-20          35       288640   11     1               4   \n",
       "4        2003-01-01          37       204000    6     0               4   \n",
       "...             ...         ...          ...  ...   ...             ...   \n",
       "191472   1999-10-12          30       208307    0     1               4   \n",
       "191473   2011-02-01          56       297827   11     0               4   \n",
       "191474   1994-01-01          12       296267    7     1               4   \n",
       "191475   1995-02-14          34       361667    2     1               4   \n",
       "191476   1993-01-01          27       251667   10     1               4   \n",
       "\n",
       "        acousticness  danceability  energy  instrumentalness  liveness  \\\n",
       "0           0.080300         0.750  0.7830          0.000000    0.0786   \n",
       "1           0.094400         0.629  0.6470          0.004810    0.2470   \n",
       "2           0.000315         0.420  0.7310          0.025200    0.2210   \n",
       "3           0.954000         0.186  0.1270          0.092700    0.1090   \n",
       "4           0.014100         0.810  0.6180          0.035800    0.0970   \n",
       "...              ...           ...     ...               ...       ...   \n",
       "191472      0.042400         0.763  0.8460          0.000000    0.0718   \n",
       "191473      0.000431         0.420  0.8990          0.000245    0.2300   \n",
       "191474      0.340000         0.649  0.5510          0.027700    0.0447   \n",
       "191475      0.990000         0.373  0.0498          0.878000    0.1410   \n",
       "191476      0.366000         0.400  0.2900          0.000015    0.3270   \n",
       "\n",
       "        loudness  speechiness  valence    tempo  \n",
       "0         -5.480       0.0720    0.274  157.057  \n",
       "1         -9.260       0.0343    0.652  135.866  \n",
       "2         -4.027       0.1030    0.293  126.692  \n",
       "3        -18.247       0.0383    0.071   70.883  \n",
       "4         -8.194       0.0651    0.776  120.021  \n",
       "...          ...          ...      ...      ...  \n",
       "191472    -6.177       0.0511    0.943   94.856  \n",
       "191473    -5.446       0.0745    0.193  132.016  \n",
       "191474   -10.241       0.0430    0.831  171.748  \n",
       "191475   -22.787       0.0595    0.222   79.598  \n",
       "191476   -15.973       0.0326    0.314   72.756  \n",
       "\n",
       "[191477 rows x 18 columns]"
      ]
     },
     "execution_count": 10,
     "metadata": {},
     "output_type": "execute_result"
    }
   ],
   "source": [
    "tracks_df"
   ]
  },
  {
   "cell_type": "code",
   "execution_count": 11,
   "metadata": {},
   "outputs": [],
   "source": [
    "target_tracks = pd.Series(np.zeros((tracks_df.shape[0],)), name='target')"
   ]
  },
  {
   "cell_type": "code",
   "execution_count": 12,
   "metadata": {},
   "outputs": [
    {
     "data": {
      "text/html": [
       "<div>\n",
       "<style scoped>\n",
       "    .dataframe tbody tr th:only-of-type {\n",
       "        vertical-align: middle;\n",
       "    }\n",
       "\n",
       "    .dataframe tbody tr th {\n",
       "        vertical-align: top;\n",
       "    }\n",
       "\n",
       "    .dataframe thead th {\n",
       "        text-align: right;\n",
       "    }\n",
       "</style>\n",
       "<table border=\"1\" class=\"dataframe\">\n",
       "  <thead>\n",
       "    <tr style=\"text-align: right;\">\n",
       "      <th></th>\n",
       "      <th>name</th>\n",
       "      <th>album</th>\n",
       "      <th>artist</th>\n",
       "      <th>release_date</th>\n",
       "      <th>popularity</th>\n",
       "      <th>duration_ms</th>\n",
       "      <th>key</th>\n",
       "      <th>mode</th>\n",
       "      <th>time_signature</th>\n",
       "      <th>acousticness</th>\n",
       "      <th>danceability</th>\n",
       "      <th>energy</th>\n",
       "      <th>instrumentalness</th>\n",
       "      <th>liveness</th>\n",
       "      <th>loudness</th>\n",
       "      <th>speechiness</th>\n",
       "      <th>valence</th>\n",
       "      <th>tempo</th>\n",
       "    </tr>\n",
       "  </thead>\n",
       "  <tbody>\n",
       "    <tr>\n",
       "      <th>0</th>\n",
       "      <td>Corner Man - Explicit Album Version</td>\n",
       "      <td>Last 2 Walk</td>\n",
       "      <td>Three 6 Mafia</td>\n",
       "      <td>2008-06-21</td>\n",
       "      <td>20</td>\n",
       "      <td>187480</td>\n",
       "      <td>2</td>\n",
       "      <td>1</td>\n",
       "      <td>4</td>\n",
       "      <td>0.080300</td>\n",
       "      <td>0.750</td>\n",
       "      <td>0.7830</td>\n",
       "      <td>0.000000</td>\n",
       "      <td>0.0786</td>\n",
       "      <td>-5.480</td>\n",
       "      <td>0.0720</td>\n",
       "      <td>0.274</td>\n",
       "      <td>157.057</td>\n",
       "    </tr>\n",
       "    <tr>\n",
       "      <th>1</th>\n",
       "      <td>Old Judge Jones</td>\n",
       "      <td>Say No More</td>\n",
       "      <td>Les Dudek</td>\n",
       "      <td>1977</td>\n",
       "      <td>29</td>\n",
       "      <td>278800</td>\n",
       "      <td>8</td>\n",
       "      <td>1</td>\n",
       "      <td>4</td>\n",
       "      <td>0.094400</td>\n",
       "      <td>0.629</td>\n",
       "      <td>0.6470</td>\n",
       "      <td>0.004810</td>\n",
       "      <td>0.2470</td>\n",
       "      <td>-9.260</td>\n",
       "      <td>0.0343</td>\n",
       "      <td>0.652</td>\n",
       "      <td>135.866</td>\n",
       "    </tr>\n",
       "    <tr>\n",
       "      <th>2</th>\n",
       "      <td>Endless Fantasy</td>\n",
       "      <td>Endless Fantasy</td>\n",
       "      <td>Anamanaguchi</td>\n",
       "      <td>2013-05-14</td>\n",
       "      <td>43</td>\n",
       "      <td>357785</td>\n",
       "      <td>8</td>\n",
       "      <td>1</td>\n",
       "      <td>3</td>\n",
       "      <td>0.000315</td>\n",
       "      <td>0.420</td>\n",
       "      <td>0.7310</td>\n",
       "      <td>0.025200</td>\n",
       "      <td>0.2210</td>\n",
       "      <td>-4.027</td>\n",
       "      <td>0.1030</td>\n",
       "      <td>0.293</td>\n",
       "      <td>126.692</td>\n",
       "    </tr>\n",
       "    <tr>\n",
       "      <th>3</th>\n",
       "      <td>Hope Has a Place</td>\n",
       "      <td>The Memory of Trees</td>\n",
       "      <td>Enya</td>\n",
       "      <td>1995-11-20</td>\n",
       "      <td>35</td>\n",
       "      <td>288640</td>\n",
       "      <td>11</td>\n",
       "      <td>1</td>\n",
       "      <td>4</td>\n",
       "      <td>0.954000</td>\n",
       "      <td>0.186</td>\n",
       "      <td>0.1270</td>\n",
       "      <td>0.092700</td>\n",
       "      <td>0.1090</td>\n",
       "      <td>-18.247</td>\n",
       "      <td>0.0383</td>\n",
       "      <td>0.071</td>\n",
       "      <td>70.883</td>\n",
       "    </tr>\n",
       "    <tr>\n",
       "      <th>4</th>\n",
       "      <td>Put the Needle on It - Radio Version</td>\n",
       "      <td>Neon Nights (Deluxe Version)</td>\n",
       "      <td>Dannii Minogue</td>\n",
       "      <td>2003-01-01</td>\n",
       "      <td>37</td>\n",
       "      <td>204000</td>\n",
       "      <td>6</td>\n",
       "      <td>0</td>\n",
       "      <td>4</td>\n",
       "      <td>0.014100</td>\n",
       "      <td>0.810</td>\n",
       "      <td>0.6180</td>\n",
       "      <td>0.035800</td>\n",
       "      <td>0.0970</td>\n",
       "      <td>-8.194</td>\n",
       "      <td>0.0651</td>\n",
       "      <td>0.776</td>\n",
       "      <td>120.021</td>\n",
       "    </tr>\n",
       "    <tr>\n",
       "      <th>...</th>\n",
       "      <td>...</td>\n",
       "      <td>...</td>\n",
       "      <td>...</td>\n",
       "      <td>...</td>\n",
       "      <td>...</td>\n",
       "      <td>...</td>\n",
       "      <td>...</td>\n",
       "      <td>...</td>\n",
       "      <td>...</td>\n",
       "      <td>...</td>\n",
       "      <td>...</td>\n",
       "      <td>...</td>\n",
       "      <td>...</td>\n",
       "      <td>...</td>\n",
       "      <td>...</td>\n",
       "      <td>...</td>\n",
       "      <td>...</td>\n",
       "      <td>...</td>\n",
       "    </tr>\n",
       "    <tr>\n",
       "      <th>191472</th>\n",
       "      <td>Strong All Along</td>\n",
       "      <td>Soundsystem</td>\n",
       "      <td>311</td>\n",
       "      <td>1999-10-12</td>\n",
       "      <td>30</td>\n",
       "      <td>208307</td>\n",
       "      <td>0</td>\n",
       "      <td>1</td>\n",
       "      <td>4</td>\n",
       "      <td>0.042400</td>\n",
       "      <td>0.763</td>\n",
       "      <td>0.8460</td>\n",
       "      <td>0.000000</td>\n",
       "      <td>0.0718</td>\n",
       "      <td>-6.177</td>\n",
       "      <td>0.0511</td>\n",
       "      <td>0.943</td>\n",
       "      <td>94.856</td>\n",
       "    </tr>\n",
       "    <tr>\n",
       "      <th>191473</th>\n",
       "      <td>Let It Burn</td>\n",
       "      <td>Until We Have Faces</td>\n",
       "      <td>Red</td>\n",
       "      <td>2011-02-01</td>\n",
       "      <td>56</td>\n",
       "      <td>297827</td>\n",
       "      <td>11</td>\n",
       "      <td>0</td>\n",
       "      <td>4</td>\n",
       "      <td>0.000431</td>\n",
       "      <td>0.420</td>\n",
       "      <td>0.8990</td>\n",
       "      <td>0.000245</td>\n",
       "      <td>0.2300</td>\n",
       "      <td>-5.446</td>\n",
       "      <td>0.0745</td>\n",
       "      <td>0.193</td>\n",
       "      <td>132.016</td>\n",
       "    </tr>\n",
       "    <tr>\n",
       "      <th>191474</th>\n",
       "      <td>If You Were Mine</td>\n",
       "      <td>A Home Far Away</td>\n",
       "      <td>George Howard</td>\n",
       "      <td>1994-01-01</td>\n",
       "      <td>12</td>\n",
       "      <td>296267</td>\n",
       "      <td>7</td>\n",
       "      <td>1</td>\n",
       "      <td>4</td>\n",
       "      <td>0.340000</td>\n",
       "      <td>0.649</td>\n",
       "      <td>0.5510</td>\n",
       "      <td>0.027700</td>\n",
       "      <td>0.0447</td>\n",
       "      <td>-10.241</td>\n",
       "      <td>0.0430</td>\n",
       "      <td>0.831</td>\n",
       "      <td>171.748</td>\n",
       "    </tr>\n",
       "    <tr>\n",
       "      <th>191475</th>\n",
       "      <td>El Día Que Me Quieras</td>\n",
       "      <td>Tangos, Milongas y Otras Yerbas</td>\n",
       "      <td>Victor Villadangos</td>\n",
       "      <td>1995-02-14</td>\n",
       "      <td>34</td>\n",
       "      <td>361667</td>\n",
       "      <td>2</td>\n",
       "      <td>1</td>\n",
       "      <td>4</td>\n",
       "      <td>0.990000</td>\n",
       "      <td>0.373</td>\n",
       "      <td>0.0498</td>\n",
       "      <td>0.878000</td>\n",
       "      <td>0.1410</td>\n",
       "      <td>-22.787</td>\n",
       "      <td>0.0595</td>\n",
       "      <td>0.222</td>\n",
       "      <td>79.598</td>\n",
       "    </tr>\n",
       "    <tr>\n",
       "      <th>191476</th>\n",
       "      <td>She Believes In Me</td>\n",
       "      <td>Daytime Friends: The Very Best Of Kenny Rogers</td>\n",
       "      <td>Kenny Rogers</td>\n",
       "      <td>1993-01-01</td>\n",
       "      <td>27</td>\n",
       "      <td>251667</td>\n",
       "      <td>10</td>\n",
       "      <td>1</td>\n",
       "      <td>4</td>\n",
       "      <td>0.366000</td>\n",
       "      <td>0.400</td>\n",
       "      <td>0.2900</td>\n",
       "      <td>0.000015</td>\n",
       "      <td>0.3270</td>\n",
       "      <td>-15.973</td>\n",
       "      <td>0.0326</td>\n",
       "      <td>0.314</td>\n",
       "      <td>72.756</td>\n",
       "    </tr>\n",
       "  </tbody>\n",
       "</table>\n",
       "<p>191477 rows × 18 columns</p>\n",
       "</div>"
      ],
      "text/plain": [
       "                                        name  \\\n",
       "0        Corner Man - Explicit Album Version   \n",
       "1                            Old Judge Jones   \n",
       "2                            Endless Fantasy   \n",
       "3                           Hope Has a Place   \n",
       "4       Put the Needle on It - Radio Version   \n",
       "...                                      ...   \n",
       "191472                      Strong All Along   \n",
       "191473                           Let It Burn   \n",
       "191474                      If You Were Mine   \n",
       "191475                 El Día Que Me Quieras   \n",
       "191476                    She Believes In Me   \n",
       "\n",
       "                                                 album              artist  \\\n",
       "0                                          Last 2 Walk       Three 6 Mafia   \n",
       "1                                          Say No More           Les Dudek   \n",
       "2                                      Endless Fantasy        Anamanaguchi   \n",
       "3                                  The Memory of Trees                Enya   \n",
       "4                         Neon Nights (Deluxe Version)      Dannii Minogue   \n",
       "...                                                ...                 ...   \n",
       "191472                                     Soundsystem                 311   \n",
       "191473                             Until We Have Faces                 Red   \n",
       "191474                                 A Home Far Away       George Howard   \n",
       "191475                 Tangos, Milongas y Otras Yerbas  Victor Villadangos   \n",
       "191476  Daytime Friends: The Very Best Of Kenny Rogers        Kenny Rogers   \n",
       "\n",
       "       release_date  popularity  duration_ms  key  mode  time_signature  \\\n",
       "0        2008-06-21          20       187480    2     1               4   \n",
       "1              1977          29       278800    8     1               4   \n",
       "2        2013-05-14          43       357785    8     1               3   \n",
       "3        1995-11-20          35       288640   11     1               4   \n",
       "4        2003-01-01          37       204000    6     0               4   \n",
       "...             ...         ...          ...  ...   ...             ...   \n",
       "191472   1999-10-12          30       208307    0     1               4   \n",
       "191473   2011-02-01          56       297827   11     0               4   \n",
       "191474   1994-01-01          12       296267    7     1               4   \n",
       "191475   1995-02-14          34       361667    2     1               4   \n",
       "191476   1993-01-01          27       251667   10     1               4   \n",
       "\n",
       "        acousticness  danceability  energy  instrumentalness  liveness  \\\n",
       "0           0.080300         0.750  0.7830          0.000000    0.0786   \n",
       "1           0.094400         0.629  0.6470          0.004810    0.2470   \n",
       "2           0.000315         0.420  0.7310          0.025200    0.2210   \n",
       "3           0.954000         0.186  0.1270          0.092700    0.1090   \n",
       "4           0.014100         0.810  0.6180          0.035800    0.0970   \n",
       "...              ...           ...     ...               ...       ...   \n",
       "191472      0.042400         0.763  0.8460          0.000000    0.0718   \n",
       "191473      0.000431         0.420  0.8990          0.000245    0.2300   \n",
       "191474      0.340000         0.649  0.5510          0.027700    0.0447   \n",
       "191475      0.990000         0.373  0.0498          0.878000    0.1410   \n",
       "191476      0.366000         0.400  0.2900          0.000015    0.3270   \n",
       "\n",
       "        loudness  speechiness  valence    tempo  \n",
       "0         -5.480       0.0720    0.274  157.057  \n",
       "1         -9.260       0.0343    0.652  135.866  \n",
       "2         -4.027       0.1030    0.293  126.692  \n",
       "3        -18.247       0.0383    0.071   70.883  \n",
       "4         -8.194       0.0651    0.776  120.021  \n",
       "...          ...          ...      ...      ...  \n",
       "191472    -6.177       0.0511    0.943   94.856  \n",
       "191473    -5.446       0.0745    0.193  132.016  \n",
       "191474   -10.241       0.0430    0.831  171.748  \n",
       "191475   -22.787       0.0595    0.222   79.598  \n",
       "191476   -15.973       0.0326    0.314   72.756  \n",
       "\n",
       "[191477 rows x 18 columns]"
      ]
     },
     "execution_count": 12,
     "metadata": {},
     "output_type": "execute_result"
    }
   ],
   "source": [
    "tracks_df"
   ]
  },
  {
   "cell_type": "code",
   "execution_count": 13,
   "metadata": {},
   "outputs": [],
   "source": [
    "tracks_df = pd.concat([tracks_df.reset_index(drop=True), target_tracks], axis=1).reset_index(drop=True)"
   ]
  },
  {
   "cell_type": "code",
   "execution_count": 14,
   "metadata": {},
   "outputs": [
    {
     "data": {
      "text/html": [
       "<div>\n",
       "<style scoped>\n",
       "    .dataframe tbody tr th:only-of-type {\n",
       "        vertical-align: middle;\n",
       "    }\n",
       "\n",
       "    .dataframe tbody tr th {\n",
       "        vertical-align: top;\n",
       "    }\n",
       "\n",
       "    .dataframe thead th {\n",
       "        text-align: right;\n",
       "    }\n",
       "</style>\n",
       "<table border=\"1\" class=\"dataframe\">\n",
       "  <thead>\n",
       "    <tr style=\"text-align: right;\">\n",
       "      <th></th>\n",
       "      <th>name</th>\n",
       "      <th>album</th>\n",
       "      <th>artist</th>\n",
       "      <th>release_date</th>\n",
       "      <th>popularity</th>\n",
       "      <th>duration_ms</th>\n",
       "      <th>key</th>\n",
       "      <th>mode</th>\n",
       "      <th>time_signature</th>\n",
       "      <th>acousticness</th>\n",
       "      <th>danceability</th>\n",
       "      <th>energy</th>\n",
       "      <th>instrumentalness</th>\n",
       "      <th>liveness</th>\n",
       "      <th>loudness</th>\n",
       "      <th>speechiness</th>\n",
       "      <th>valence</th>\n",
       "      <th>tempo</th>\n",
       "      <th>target</th>\n",
       "    </tr>\n",
       "  </thead>\n",
       "  <tbody>\n",
       "    <tr>\n",
       "      <th>0</th>\n",
       "      <td>Corner Man - Explicit Album Version</td>\n",
       "      <td>Last 2 Walk</td>\n",
       "      <td>Three 6 Mafia</td>\n",
       "      <td>2008-06-21</td>\n",
       "      <td>20</td>\n",
       "      <td>187480</td>\n",
       "      <td>2</td>\n",
       "      <td>1</td>\n",
       "      <td>4</td>\n",
       "      <td>0.080300</td>\n",
       "      <td>0.750</td>\n",
       "      <td>0.7830</td>\n",
       "      <td>0.000000</td>\n",
       "      <td>0.0786</td>\n",
       "      <td>-5.480</td>\n",
       "      <td>0.0720</td>\n",
       "      <td>0.274</td>\n",
       "      <td>157.057</td>\n",
       "      <td>0.0</td>\n",
       "    </tr>\n",
       "    <tr>\n",
       "      <th>1</th>\n",
       "      <td>Old Judge Jones</td>\n",
       "      <td>Say No More</td>\n",
       "      <td>Les Dudek</td>\n",
       "      <td>1977</td>\n",
       "      <td>29</td>\n",
       "      <td>278800</td>\n",
       "      <td>8</td>\n",
       "      <td>1</td>\n",
       "      <td>4</td>\n",
       "      <td>0.094400</td>\n",
       "      <td>0.629</td>\n",
       "      <td>0.6470</td>\n",
       "      <td>0.004810</td>\n",
       "      <td>0.2470</td>\n",
       "      <td>-9.260</td>\n",
       "      <td>0.0343</td>\n",
       "      <td>0.652</td>\n",
       "      <td>135.866</td>\n",
       "      <td>0.0</td>\n",
       "    </tr>\n",
       "    <tr>\n",
       "      <th>2</th>\n",
       "      <td>Endless Fantasy</td>\n",
       "      <td>Endless Fantasy</td>\n",
       "      <td>Anamanaguchi</td>\n",
       "      <td>2013-05-14</td>\n",
       "      <td>43</td>\n",
       "      <td>357785</td>\n",
       "      <td>8</td>\n",
       "      <td>1</td>\n",
       "      <td>3</td>\n",
       "      <td>0.000315</td>\n",
       "      <td>0.420</td>\n",
       "      <td>0.7310</td>\n",
       "      <td>0.025200</td>\n",
       "      <td>0.2210</td>\n",
       "      <td>-4.027</td>\n",
       "      <td>0.1030</td>\n",
       "      <td>0.293</td>\n",
       "      <td>126.692</td>\n",
       "      <td>0.0</td>\n",
       "    </tr>\n",
       "    <tr>\n",
       "      <th>3</th>\n",
       "      <td>Hope Has a Place</td>\n",
       "      <td>The Memory of Trees</td>\n",
       "      <td>Enya</td>\n",
       "      <td>1995-11-20</td>\n",
       "      <td>35</td>\n",
       "      <td>288640</td>\n",
       "      <td>11</td>\n",
       "      <td>1</td>\n",
       "      <td>4</td>\n",
       "      <td>0.954000</td>\n",
       "      <td>0.186</td>\n",
       "      <td>0.1270</td>\n",
       "      <td>0.092700</td>\n",
       "      <td>0.1090</td>\n",
       "      <td>-18.247</td>\n",
       "      <td>0.0383</td>\n",
       "      <td>0.071</td>\n",
       "      <td>70.883</td>\n",
       "      <td>0.0</td>\n",
       "    </tr>\n",
       "    <tr>\n",
       "      <th>4</th>\n",
       "      <td>Put the Needle on It - Radio Version</td>\n",
       "      <td>Neon Nights (Deluxe Version)</td>\n",
       "      <td>Dannii Minogue</td>\n",
       "      <td>2003-01-01</td>\n",
       "      <td>37</td>\n",
       "      <td>204000</td>\n",
       "      <td>6</td>\n",
       "      <td>0</td>\n",
       "      <td>4</td>\n",
       "      <td>0.014100</td>\n",
       "      <td>0.810</td>\n",
       "      <td>0.6180</td>\n",
       "      <td>0.035800</td>\n",
       "      <td>0.0970</td>\n",
       "      <td>-8.194</td>\n",
       "      <td>0.0651</td>\n",
       "      <td>0.776</td>\n",
       "      <td>120.021</td>\n",
       "      <td>0.0</td>\n",
       "    </tr>\n",
       "    <tr>\n",
       "      <th>...</th>\n",
       "      <td>...</td>\n",
       "      <td>...</td>\n",
       "      <td>...</td>\n",
       "      <td>...</td>\n",
       "      <td>...</td>\n",
       "      <td>...</td>\n",
       "      <td>...</td>\n",
       "      <td>...</td>\n",
       "      <td>...</td>\n",
       "      <td>...</td>\n",
       "      <td>...</td>\n",
       "      <td>...</td>\n",
       "      <td>...</td>\n",
       "      <td>...</td>\n",
       "      <td>...</td>\n",
       "      <td>...</td>\n",
       "      <td>...</td>\n",
       "      <td>...</td>\n",
       "      <td>...</td>\n",
       "    </tr>\n",
       "    <tr>\n",
       "      <th>191472</th>\n",
       "      <td>Strong All Along</td>\n",
       "      <td>Soundsystem</td>\n",
       "      <td>311</td>\n",
       "      <td>1999-10-12</td>\n",
       "      <td>30</td>\n",
       "      <td>208307</td>\n",
       "      <td>0</td>\n",
       "      <td>1</td>\n",
       "      <td>4</td>\n",
       "      <td>0.042400</td>\n",
       "      <td>0.763</td>\n",
       "      <td>0.8460</td>\n",
       "      <td>0.000000</td>\n",
       "      <td>0.0718</td>\n",
       "      <td>-6.177</td>\n",
       "      <td>0.0511</td>\n",
       "      <td>0.943</td>\n",
       "      <td>94.856</td>\n",
       "      <td>0.0</td>\n",
       "    </tr>\n",
       "    <tr>\n",
       "      <th>191473</th>\n",
       "      <td>Let It Burn</td>\n",
       "      <td>Until We Have Faces</td>\n",
       "      <td>Red</td>\n",
       "      <td>2011-02-01</td>\n",
       "      <td>56</td>\n",
       "      <td>297827</td>\n",
       "      <td>11</td>\n",
       "      <td>0</td>\n",
       "      <td>4</td>\n",
       "      <td>0.000431</td>\n",
       "      <td>0.420</td>\n",
       "      <td>0.8990</td>\n",
       "      <td>0.000245</td>\n",
       "      <td>0.2300</td>\n",
       "      <td>-5.446</td>\n",
       "      <td>0.0745</td>\n",
       "      <td>0.193</td>\n",
       "      <td>132.016</td>\n",
       "      <td>0.0</td>\n",
       "    </tr>\n",
       "    <tr>\n",
       "      <th>191474</th>\n",
       "      <td>If You Were Mine</td>\n",
       "      <td>A Home Far Away</td>\n",
       "      <td>George Howard</td>\n",
       "      <td>1994-01-01</td>\n",
       "      <td>12</td>\n",
       "      <td>296267</td>\n",
       "      <td>7</td>\n",
       "      <td>1</td>\n",
       "      <td>4</td>\n",
       "      <td>0.340000</td>\n",
       "      <td>0.649</td>\n",
       "      <td>0.5510</td>\n",
       "      <td>0.027700</td>\n",
       "      <td>0.0447</td>\n",
       "      <td>-10.241</td>\n",
       "      <td>0.0430</td>\n",
       "      <td>0.831</td>\n",
       "      <td>171.748</td>\n",
       "      <td>0.0</td>\n",
       "    </tr>\n",
       "    <tr>\n",
       "      <th>191475</th>\n",
       "      <td>El Día Que Me Quieras</td>\n",
       "      <td>Tangos, Milongas y Otras Yerbas</td>\n",
       "      <td>Victor Villadangos</td>\n",
       "      <td>1995-02-14</td>\n",
       "      <td>34</td>\n",
       "      <td>361667</td>\n",
       "      <td>2</td>\n",
       "      <td>1</td>\n",
       "      <td>4</td>\n",
       "      <td>0.990000</td>\n",
       "      <td>0.373</td>\n",
       "      <td>0.0498</td>\n",
       "      <td>0.878000</td>\n",
       "      <td>0.1410</td>\n",
       "      <td>-22.787</td>\n",
       "      <td>0.0595</td>\n",
       "      <td>0.222</td>\n",
       "      <td>79.598</td>\n",
       "      <td>0.0</td>\n",
       "    </tr>\n",
       "    <tr>\n",
       "      <th>191476</th>\n",
       "      <td>She Believes In Me</td>\n",
       "      <td>Daytime Friends: The Very Best Of Kenny Rogers</td>\n",
       "      <td>Kenny Rogers</td>\n",
       "      <td>1993-01-01</td>\n",
       "      <td>27</td>\n",
       "      <td>251667</td>\n",
       "      <td>10</td>\n",
       "      <td>1</td>\n",
       "      <td>4</td>\n",
       "      <td>0.366000</td>\n",
       "      <td>0.400</td>\n",
       "      <td>0.2900</td>\n",
       "      <td>0.000015</td>\n",
       "      <td>0.3270</td>\n",
       "      <td>-15.973</td>\n",
       "      <td>0.0326</td>\n",
       "      <td>0.314</td>\n",
       "      <td>72.756</td>\n",
       "      <td>0.0</td>\n",
       "    </tr>\n",
       "  </tbody>\n",
       "</table>\n",
       "<p>191477 rows × 19 columns</p>\n",
       "</div>"
      ],
      "text/plain": [
       "                                        name  \\\n",
       "0        Corner Man - Explicit Album Version   \n",
       "1                            Old Judge Jones   \n",
       "2                            Endless Fantasy   \n",
       "3                           Hope Has a Place   \n",
       "4       Put the Needle on It - Radio Version   \n",
       "...                                      ...   \n",
       "191472                      Strong All Along   \n",
       "191473                           Let It Burn   \n",
       "191474                      If You Were Mine   \n",
       "191475                 El Día Que Me Quieras   \n",
       "191476                    She Believes In Me   \n",
       "\n",
       "                                                 album              artist  \\\n",
       "0                                          Last 2 Walk       Three 6 Mafia   \n",
       "1                                          Say No More           Les Dudek   \n",
       "2                                      Endless Fantasy        Anamanaguchi   \n",
       "3                                  The Memory of Trees                Enya   \n",
       "4                         Neon Nights (Deluxe Version)      Dannii Minogue   \n",
       "...                                                ...                 ...   \n",
       "191472                                     Soundsystem                 311   \n",
       "191473                             Until We Have Faces                 Red   \n",
       "191474                                 A Home Far Away       George Howard   \n",
       "191475                 Tangos, Milongas y Otras Yerbas  Victor Villadangos   \n",
       "191476  Daytime Friends: The Very Best Of Kenny Rogers        Kenny Rogers   \n",
       "\n",
       "       release_date  popularity  duration_ms  key  mode  time_signature  \\\n",
       "0        2008-06-21          20       187480    2     1               4   \n",
       "1              1977          29       278800    8     1               4   \n",
       "2        2013-05-14          43       357785    8     1               3   \n",
       "3        1995-11-20          35       288640   11     1               4   \n",
       "4        2003-01-01          37       204000    6     0               4   \n",
       "...             ...         ...          ...  ...   ...             ...   \n",
       "191472   1999-10-12          30       208307    0     1               4   \n",
       "191473   2011-02-01          56       297827   11     0               4   \n",
       "191474   1994-01-01          12       296267    7     1               4   \n",
       "191475   1995-02-14          34       361667    2     1               4   \n",
       "191476   1993-01-01          27       251667   10     1               4   \n",
       "\n",
       "        acousticness  danceability  energy  instrumentalness  liveness  \\\n",
       "0           0.080300         0.750  0.7830          0.000000    0.0786   \n",
       "1           0.094400         0.629  0.6470          0.004810    0.2470   \n",
       "2           0.000315         0.420  0.7310          0.025200    0.2210   \n",
       "3           0.954000         0.186  0.1270          0.092700    0.1090   \n",
       "4           0.014100         0.810  0.6180          0.035800    0.0970   \n",
       "...              ...           ...     ...               ...       ...   \n",
       "191472      0.042400         0.763  0.8460          0.000000    0.0718   \n",
       "191473      0.000431         0.420  0.8990          0.000245    0.2300   \n",
       "191474      0.340000         0.649  0.5510          0.027700    0.0447   \n",
       "191475      0.990000         0.373  0.0498          0.878000    0.1410   \n",
       "191476      0.366000         0.400  0.2900          0.000015    0.3270   \n",
       "\n",
       "        loudness  speechiness  valence    tempo  target  \n",
       "0         -5.480       0.0720    0.274  157.057     0.0  \n",
       "1         -9.260       0.0343    0.652  135.866     0.0  \n",
       "2         -4.027       0.1030    0.293  126.692     0.0  \n",
       "3        -18.247       0.0383    0.071   70.883     0.0  \n",
       "4         -8.194       0.0651    0.776  120.021     0.0  \n",
       "...          ...          ...      ...      ...     ...  \n",
       "191472    -6.177       0.0511    0.943   94.856     0.0  \n",
       "191473    -5.446       0.0745    0.193  132.016     0.0  \n",
       "191474   -10.241       0.0430    0.831  171.748     0.0  \n",
       "191475   -22.787       0.0595    0.222   79.598     0.0  \n",
       "191476   -15.973       0.0326    0.314   72.756     0.0  \n",
       "\n",
       "[191477 rows x 19 columns]"
      ]
     },
     "execution_count": 14,
     "metadata": {},
     "output_type": "execute_result"
    }
   ],
   "source": [
    "tracks_df"
   ]
  },
  {
   "cell_type": "code",
   "execution_count": 15,
   "metadata": {},
   "outputs": [],
   "source": [
    "with open('tracks_df.pkl', 'wb') as file:\n",
    "    pickle.dump(tracks_df, file)"
   ]
  },
  {
   "cell_type": "code",
   "execution_count": 16,
   "metadata": {},
   "outputs": [
    {
     "name": "stdout",
     "output_type": "stream",
     "text": [
      "17800/17838\n"
     ]
    }
   ],
   "source": [
    "hits_df = getTrackFeatures(hits_ids)"
   ]
  },
  {
   "cell_type": "code",
   "execution_count": 17,
   "metadata": {},
   "outputs": [],
   "source": [
    "target_hits = pd.Series(np.ones((hits_df.shape[0],)), name='target')"
   ]
  },
  {
   "cell_type": "code",
   "execution_count": 18,
   "metadata": {},
   "outputs": [],
   "source": [
    "hits_df = pd.concat([hits_df, target_hits], axis=1)"
   ]
  },
  {
   "cell_type": "code",
   "execution_count": 19,
   "metadata": {},
   "outputs": [
    {
     "data": {
      "text/html": [
       "<div>\n",
       "<style scoped>\n",
       "    .dataframe tbody tr th:only-of-type {\n",
       "        vertical-align: middle;\n",
       "    }\n",
       "\n",
       "    .dataframe tbody tr th {\n",
       "        vertical-align: top;\n",
       "    }\n",
       "\n",
       "    .dataframe thead th {\n",
       "        text-align: right;\n",
       "    }\n",
       "</style>\n",
       "<table border=\"1\" class=\"dataframe\">\n",
       "  <thead>\n",
       "    <tr style=\"text-align: right;\">\n",
       "      <th></th>\n",
       "      <th>name</th>\n",
       "      <th>album</th>\n",
       "      <th>artist</th>\n",
       "      <th>release_date</th>\n",
       "      <th>popularity</th>\n",
       "      <th>duration_ms</th>\n",
       "      <th>key</th>\n",
       "      <th>mode</th>\n",
       "      <th>time_signature</th>\n",
       "      <th>acousticness</th>\n",
       "      <th>danceability</th>\n",
       "      <th>energy</th>\n",
       "      <th>instrumentalness</th>\n",
       "      <th>liveness</th>\n",
       "      <th>loudness</th>\n",
       "      <th>speechiness</th>\n",
       "      <th>valence</th>\n",
       "      <th>tempo</th>\n",
       "      <th>target</th>\n",
       "    </tr>\n",
       "  </thead>\n",
       "  <tbody>\n",
       "    <tr>\n",
       "      <th>0</th>\n",
       "      <td>Poor Little Fool - Remastered</td>\n",
       "      <td>Ricky Nelson (Expanded Edition / Remastered)</td>\n",
       "      <td>Ricky Nelson</td>\n",
       "      <td>1958-07-01</td>\n",
       "      <td>50</td>\n",
       "      <td>153933</td>\n",
       "      <td>0</td>\n",
       "      <td>1</td>\n",
       "      <td>4</td>\n",
       "      <td>0.64800</td>\n",
       "      <td>0.474</td>\n",
       "      <td>0.338</td>\n",
       "      <td>0.000000</td>\n",
       "      <td>0.1300</td>\n",
       "      <td>-11.528</td>\n",
       "      <td>0.0299</td>\n",
       "      <td>0.810</td>\n",
       "      <td>154.596</td>\n",
       "      <td>1.0</td>\n",
       "    </tr>\n",
       "    <tr>\n",
       "      <th>1</th>\n",
       "      <td>One Sweet Day</td>\n",
       "      <td>Daydream</td>\n",
       "      <td>Mariah Carey</td>\n",
       "      <td>1995-09-26</td>\n",
       "      <td>68</td>\n",
       "      <td>281067</td>\n",
       "      <td>1</td>\n",
       "      <td>1</td>\n",
       "      <td>4</td>\n",
       "      <td>0.35300</td>\n",
       "      <td>0.569</td>\n",
       "      <td>0.495</td>\n",
       "      <td>0.000000</td>\n",
       "      <td>0.0839</td>\n",
       "      <td>-8.964</td>\n",
       "      <td>0.0300</td>\n",
       "      <td>0.302</td>\n",
       "      <td>128.228</td>\n",
       "      <td>1.0</td>\n",
       "    </tr>\n",
       "    <tr>\n",
       "      <th>2</th>\n",
       "      <td>Candle In The Wind 1997</td>\n",
       "      <td>Candle In The Wind 1997 / Something About ...</td>\n",
       "      <td>Elton John</td>\n",
       "      <td>1997-01-01</td>\n",
       "      <td>56</td>\n",
       "      <td>250107</td>\n",
       "      <td>4</td>\n",
       "      <td>1</td>\n",
       "      <td>4</td>\n",
       "      <td>0.97700</td>\n",
       "      <td>0.450</td>\n",
       "      <td>0.311</td>\n",
       "      <td>0.007130</td>\n",
       "      <td>0.1670</td>\n",
       "      <td>-8.175</td>\n",
       "      <td>0.0314</td>\n",
       "      <td>0.367</td>\n",
       "      <td>125.648</td>\n",
       "      <td>1.0</td>\n",
       "    </tr>\n",
       "    <tr>\n",
       "      <th>3</th>\n",
       "      <td>Do I Make You Proud</td>\n",
       "      <td>Do I Make You Proud/Takin' It To The Streets</td>\n",
       "      <td>Taylor Hicks</td>\n",
       "      <td>2006-06-13</td>\n",
       "      <td>29</td>\n",
       "      <td>248693</td>\n",
       "      <td>1</td>\n",
       "      <td>1</td>\n",
       "      <td>4</td>\n",
       "      <td>0.02600</td>\n",
       "      <td>0.463</td>\n",
       "      <td>0.524</td>\n",
       "      <td>0.000000</td>\n",
       "      <td>0.1020</td>\n",
       "      <td>-8.207</td>\n",
       "      <td>0.0316</td>\n",
       "      <td>0.308</td>\n",
       "      <td>144.055</td>\n",
       "      <td>1.0</td>\n",
       "    </tr>\n",
       "    <tr>\n",
       "      <th>4</th>\n",
       "      <td>3</td>\n",
       "      <td>The Singles Collection</td>\n",
       "      <td>Britney Spears</td>\n",
       "      <td>2009-11-09</td>\n",
       "      <td>63</td>\n",
       "      <td>213173</td>\n",
       "      <td>5</td>\n",
       "      <td>0</td>\n",
       "      <td>4</td>\n",
       "      <td>0.04520</td>\n",
       "      <td>0.697</td>\n",
       "      <td>0.709</td>\n",
       "      <td>0.000000</td>\n",
       "      <td>0.1380</td>\n",
       "      <td>-1.917</td>\n",
       "      <td>0.0455</td>\n",
       "      <td>0.787</td>\n",
       "      <td>134.910</td>\n",
       "      <td>1.0</td>\n",
       "    </tr>\n",
       "    <tr>\n",
       "      <th>...</th>\n",
       "      <td>...</td>\n",
       "      <td>...</td>\n",
       "      <td>...</td>\n",
       "      <td>...</td>\n",
       "      <td>...</td>\n",
       "      <td>...</td>\n",
       "      <td>...</td>\n",
       "      <td>...</td>\n",
       "      <td>...</td>\n",
       "      <td>...</td>\n",
       "      <td>...</td>\n",
       "      <td>...</td>\n",
       "      <td>...</td>\n",
       "      <td>...</td>\n",
       "      <td>...</td>\n",
       "      <td>...</td>\n",
       "      <td>...</td>\n",
       "      <td>...</td>\n",
       "      <td>...</td>\n",
       "    </tr>\n",
       "    <tr>\n",
       "      <th>17833</th>\n",
       "      <td>What You Get Is What You See - Live</td>\n",
       "      <td>Tina Live in Europe</td>\n",
       "      <td>Tina Turner</td>\n",
       "      <td>1988-03-16</td>\n",
       "      <td>32</td>\n",
       "      <td>334040</td>\n",
       "      <td>5</td>\n",
       "      <td>1</td>\n",
       "      <td>4</td>\n",
       "      <td>0.00612</td>\n",
       "      <td>0.424</td>\n",
       "      <td>0.906</td>\n",
       "      <td>0.001860</td>\n",
       "      <td>0.9880</td>\n",
       "      <td>-10.985</td>\n",
       "      <td>0.0610</td>\n",
       "      <td>0.676</td>\n",
       "      <td>168.447</td>\n",
       "      <td>1.0</td>\n",
       "    </tr>\n",
       "    <tr>\n",
       "      <th>17834</th>\n",
       "      <td>What You Waiting For?</td>\n",
       "      <td>Love Angel Music Baby (Deluxe Version)</td>\n",
       "      <td>Gwen Stefani</td>\n",
       "      <td>2004-11-23</td>\n",
       "      <td>54</td>\n",
       "      <td>221227</td>\n",
       "      <td>5</td>\n",
       "      <td>1</td>\n",
       "      <td>4</td>\n",
       "      <td>0.05090</td>\n",
       "      <td>0.676</td>\n",
       "      <td>0.948</td>\n",
       "      <td>0.000008</td>\n",
       "      <td>0.3840</td>\n",
       "      <td>-2.557</td>\n",
       "      <td>0.0628</td>\n",
       "      <td>0.731</td>\n",
       "      <td>136.027</td>\n",
       "      <td>1.0</td>\n",
       "    </tr>\n",
       "    <tr>\n",
       "      <th>17835</th>\n",
       "      <td>Say What You Want</td>\n",
       "      <td>The Greatest Hits</td>\n",
       "      <td>Texas</td>\n",
       "      <td>2000-10-23</td>\n",
       "      <td>44</td>\n",
       "      <td>230547</td>\n",
       "      <td>4</td>\n",
       "      <td>1</td>\n",
       "      <td>4</td>\n",
       "      <td>0.17600</td>\n",
       "      <td>0.633</td>\n",
       "      <td>0.824</td>\n",
       "      <td>0.000000</td>\n",
       "      <td>0.1150</td>\n",
       "      <td>-6.015</td>\n",
       "      <td>0.0753</td>\n",
       "      <td>0.777</td>\n",
       "      <td>95.893</td>\n",
       "      <td>1.0</td>\n",
       "    </tr>\n",
       "    <tr>\n",
       "      <th>17836</th>\n",
       "      <td>What's a Guy Gotta Do</td>\n",
       "      <td>What's a Guy Gotta Do</td>\n",
       "      <td>John McNicholl</td>\n",
       "      <td>2005-09-02</td>\n",
       "      <td>17</td>\n",
       "      <td>147987</td>\n",
       "      <td>1</td>\n",
       "      <td>1</td>\n",
       "      <td>4</td>\n",
       "      <td>0.59200</td>\n",
       "      <td>0.661</td>\n",
       "      <td>0.778</td>\n",
       "      <td>0.000000</td>\n",
       "      <td>0.0897</td>\n",
       "      <td>-7.352</td>\n",
       "      <td>0.0318</td>\n",
       "      <td>0.968</td>\n",
       "      <td>169.910</td>\n",
       "      <td>1.0</td>\n",
       "    </tr>\n",
       "    <tr>\n",
       "      <th>17837</th>\n",
       "      <td>What's A Matter Baby (Is It Hurting You)</td>\n",
       "      <td>What's A Matter Baby (Expanded Edition)</td>\n",
       "      <td>Timi Yuro</td>\n",
       "      <td>1962-09-10</td>\n",
       "      <td>24</td>\n",
       "      <td>165707</td>\n",
       "      <td>9</td>\n",
       "      <td>1</td>\n",
       "      <td>4</td>\n",
       "      <td>0.26400</td>\n",
       "      <td>0.618</td>\n",
       "      <td>0.830</td>\n",
       "      <td>0.000000</td>\n",
       "      <td>0.2660</td>\n",
       "      <td>-5.722</td>\n",
       "      <td>0.0480</td>\n",
       "      <td>0.864</td>\n",
       "      <td>112.580</td>\n",
       "      <td>1.0</td>\n",
       "    </tr>\n",
       "  </tbody>\n",
       "</table>\n",
       "<p>17838 rows × 19 columns</p>\n",
       "</div>"
      ],
      "text/plain": [
       "                                           name  \\\n",
       "0                 Poor Little Fool - Remastered   \n",
       "1                                 One Sweet Day   \n",
       "2                       Candle In The Wind 1997   \n",
       "3                           Do I Make You Proud   \n",
       "4                                             3   \n",
       "...                                         ...   \n",
       "17833       What You Get Is What You See - Live   \n",
       "17834                     What You Waiting For?   \n",
       "17835                         Say What You Want   \n",
       "17836                     What's a Guy Gotta Do   \n",
       "17837  What's A Matter Baby (Is It Hurting You)   \n",
       "\n",
       "                                               album          artist  \\\n",
       "0       Ricky Nelson (Expanded Edition / Remastered)    Ricky Nelson   \n",
       "1                                           Daydream    Mariah Carey   \n",
       "2      Candle In The Wind 1997 / Something About ...      Elton John   \n",
       "3       Do I Make You Proud/Takin' It To The Streets    Taylor Hicks   \n",
       "4                             The Singles Collection  Britney Spears   \n",
       "...                                              ...             ...   \n",
       "17833                            Tina Live in Europe     Tina Turner   \n",
       "17834         Love Angel Music Baby (Deluxe Version)    Gwen Stefani   \n",
       "17835                              The Greatest Hits           Texas   \n",
       "17836                          What's a Guy Gotta Do  John McNicholl   \n",
       "17837        What's A Matter Baby (Expanded Edition)       Timi Yuro   \n",
       "\n",
       "      release_date  popularity  duration_ms  key  mode  time_signature  \\\n",
       "0       1958-07-01          50       153933    0     1               4   \n",
       "1       1995-09-26          68       281067    1     1               4   \n",
       "2       1997-01-01          56       250107    4     1               4   \n",
       "3       2006-06-13          29       248693    1     1               4   \n",
       "4       2009-11-09          63       213173    5     0               4   \n",
       "...            ...         ...          ...  ...   ...             ...   \n",
       "17833   1988-03-16          32       334040    5     1               4   \n",
       "17834   2004-11-23          54       221227    5     1               4   \n",
       "17835   2000-10-23          44       230547    4     1               4   \n",
       "17836   2005-09-02          17       147987    1     1               4   \n",
       "17837   1962-09-10          24       165707    9     1               4   \n",
       "\n",
       "       acousticness  danceability  energy  instrumentalness  liveness  \\\n",
       "0           0.64800         0.474   0.338          0.000000    0.1300   \n",
       "1           0.35300         0.569   0.495          0.000000    0.0839   \n",
       "2           0.97700         0.450   0.311          0.007130    0.1670   \n",
       "3           0.02600         0.463   0.524          0.000000    0.1020   \n",
       "4           0.04520         0.697   0.709          0.000000    0.1380   \n",
       "...             ...           ...     ...               ...       ...   \n",
       "17833       0.00612         0.424   0.906          0.001860    0.9880   \n",
       "17834       0.05090         0.676   0.948          0.000008    0.3840   \n",
       "17835       0.17600         0.633   0.824          0.000000    0.1150   \n",
       "17836       0.59200         0.661   0.778          0.000000    0.0897   \n",
       "17837       0.26400         0.618   0.830          0.000000    0.2660   \n",
       "\n",
       "       loudness  speechiness  valence    tempo  target  \n",
       "0       -11.528       0.0299    0.810  154.596     1.0  \n",
       "1        -8.964       0.0300    0.302  128.228     1.0  \n",
       "2        -8.175       0.0314    0.367  125.648     1.0  \n",
       "3        -8.207       0.0316    0.308  144.055     1.0  \n",
       "4        -1.917       0.0455    0.787  134.910     1.0  \n",
       "...         ...          ...      ...      ...     ...  \n",
       "17833   -10.985       0.0610    0.676  168.447     1.0  \n",
       "17834    -2.557       0.0628    0.731  136.027     1.0  \n",
       "17835    -6.015       0.0753    0.777   95.893     1.0  \n",
       "17836    -7.352       0.0318    0.968  169.910     1.0  \n",
       "17837    -5.722       0.0480    0.864  112.580     1.0  \n",
       "\n",
       "[17838 rows x 19 columns]"
      ]
     },
     "execution_count": 19,
     "metadata": {},
     "output_type": "execute_result"
    }
   ],
   "source": [
    "hits_df"
   ]
  },
  {
   "cell_type": "code",
   "execution_count": 20,
   "metadata": {},
   "outputs": [],
   "source": [
    "with open('hits_df.pkl', 'wb') as file:\n",
    "    pickle.dump(hits_df, file)"
   ]
  },
  {
   "cell_type": "code",
   "execution_count": 21,
   "metadata": {},
   "outputs": [],
   "source": [
    "hits_df = pickle.load(open('hits_df.pkl', 'rb'))"
   ]
  },
  {
   "cell_type": "code",
   "execution_count": 23,
   "metadata": {},
   "outputs": [
    {
     "data": {
      "text/plain": [
       "name                0\n",
       "album               0\n",
       "artist              0\n",
       "release_date        0\n",
       "popularity          0\n",
       "duration_ms         0\n",
       "key                 0\n",
       "mode                0\n",
       "time_signature      0\n",
       "acousticness        0\n",
       "danceability        0\n",
       "energy              0\n",
       "instrumentalness    0\n",
       "liveness            0\n",
       "loudness            0\n",
       "speechiness         0\n",
       "valence             0\n",
       "tempo               0\n",
       "target              0\n",
       "dtype: int64"
      ]
     },
     "execution_count": 23,
     "metadata": {},
     "output_type": "execute_result"
    }
   ],
   "source": [
    "hits_df.isna().sum()"
   ]
  },
  {
   "cell_type": "code",
   "execution_count": 25,
   "metadata": {},
   "outputs": [],
   "source": [
    "spotify_dataset = pd.concat([tracks_df.reset_index(drop=True), hits_df.reset_index(drop=True)], axis=0).reset_index(drop=True)"
   ]
  },
  {
   "cell_type": "code",
   "execution_count": 26,
   "metadata": {},
   "outputs": [
    {
     "data": {
      "text/plain": [
       "name                0\n",
       "album               0\n",
       "artist              0\n",
       "release_date        0\n",
       "popularity          0\n",
       "duration_ms         0\n",
       "key                 0\n",
       "mode                0\n",
       "time_signature      0\n",
       "acousticness        0\n",
       "danceability        0\n",
       "energy              0\n",
       "instrumentalness    0\n",
       "liveness            0\n",
       "loudness            0\n",
       "speechiness         0\n",
       "valence             0\n",
       "tempo               0\n",
       "target              0\n",
       "dtype: int64"
      ]
     },
     "execution_count": 26,
     "metadata": {},
     "output_type": "execute_result"
    }
   ],
   "source": [
    "spotify_dataset.isna().sum()"
   ]
  },
  {
   "cell_type": "code",
   "execution_count": 27,
   "metadata": {},
   "outputs": [],
   "source": [
    "spotify_dataset.to_csv('spotify_dataset.csv', index=False)"
   ]
  },
  {
   "cell_type": "code",
   "execution_count": null,
   "metadata": {},
   "outputs": [],
   "source": []
  }
 ],
 "metadata": {
  "kernelspec": {
   "display_name": "Python 3",
   "language": "python",
   "name": "python3"
  },
  "language_info": {
   "codemirror_mode": {
    "name": "ipython",
    "version": 3
   },
   "file_extension": ".py",
   "mimetype": "text/x-python",
   "name": "python",
   "nbconvert_exporter": "python",
   "pygments_lexer": "ipython3",
   "version": "3.7.6"
  }
 },
 "nbformat": 4,
 "nbformat_minor": 4
}
