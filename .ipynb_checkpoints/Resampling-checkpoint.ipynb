{
 "cells": [
  {
   "cell_type": "code",
   "execution_count": 1,
   "metadata": {},
   "outputs": [],
   "source": [
    "import mlflow.sklearn\n",
    "from mlflow import log_param\n",
    "from mlflow.tracking import MlflowClient\n",
    "\n",
    "import pandas as pd\n",
    "import numpy as np\n",
    "\n",
    "from sklearn.compose import ColumnTransformer\n",
    "from sklearn.preprocessing import StandardScaler, RobustScaler\n",
    "from sklearn.preprocessing import KBinsDiscretizer\n",
    "from sklearn.preprocessing import OneHotEncoder\n",
    "from sklearn.model_selection import train_test_split\n",
    "\n",
    "from sklearn.linear_model import LogisticRegression\n",
    "from sklearn.pipeline import Pipeline\n",
    "\n",
    "from sklearn.metrics import classification_report, f1_score, roc_auc_score\n",
    "\n",
    "from imblearn.combine import SMOTEENN\n",
    "from imblearn.over_sampling import SMOTE\n",
    "from imblearn.under_sampling import EditedNearestNeighbours\n",
    "\n",
    "from lightgbm import LGBMClassifier"
   ]
  },
  {
   "cell_type": "code",
   "execution_count": 2,
   "metadata": {},
   "outputs": [
    {
     "name": "stderr",
     "output_type": "stream",
     "text": [
      "/home/guillaume/code/GGIML/music_project/musenv/lib/python3.7/site-packages/ipykernel/ipkernel.py:287: DeprecationWarning: `should_run_async` will not call `transform_cell` automatically in the future. Please pass the result to `transformed_cell` argument and any exception that happen during thetransform in `preprocessing_exc_tuple` in IPython 7.17 and above.\n",
      "  and should_run_async(code)\n"
     ]
    }
   ],
   "source": [
    "dataset = pd.read_csv('data/dataset_5818_artscore.csv')"
   ]
  },
  {
   "cell_type": "code",
   "execution_count": 4,
   "metadata": {},
   "outputs": [
    {
     "data": {
      "text/html": [
       "<div>\n",
       "<style scoped>\n",
       "    .dataframe tbody tr th:only-of-type {\n",
       "        vertical-align: middle;\n",
       "    }\n",
       "\n",
       "    .dataframe tbody tr th {\n",
       "        vertical-align: top;\n",
       "    }\n",
       "\n",
       "    .dataframe thead th {\n",
       "        text-align: right;\n",
       "    }\n",
       "</style>\n",
       "<table border=\"1\" class=\"dataframe\">\n",
       "  <thead>\n",
       "    <tr style=\"text-align: right;\">\n",
       "      <th></th>\n",
       "      <th>name</th>\n",
       "      <th>album</th>\n",
       "      <th>artist</th>\n",
       "      <th>release_date</th>\n",
       "      <th>popularity</th>\n",
       "      <th>duration_ms</th>\n",
       "      <th>key</th>\n",
       "      <th>mode</th>\n",
       "      <th>time_signature</th>\n",
       "      <th>acousticness</th>\n",
       "      <th>...</th>\n",
       "      <th>energy</th>\n",
       "      <th>instrumentalness</th>\n",
       "      <th>liveness</th>\n",
       "      <th>loudness</th>\n",
       "      <th>speechiness</th>\n",
       "      <th>valence</th>\n",
       "      <th>tempo</th>\n",
       "      <th>year</th>\n",
       "      <th>target</th>\n",
       "      <th>artist_score</th>\n",
       "    </tr>\n",
       "  </thead>\n",
       "  <tbody>\n",
       "    <tr>\n",
       "      <th>0</th>\n",
       "      <td>Corner Man - Explicit Album Version</td>\n",
       "      <td>Last 2 Walk</td>\n",
       "      <td>Three 6 Mafia</td>\n",
       "      <td>2008-06-21</td>\n",
       "      <td>20</td>\n",
       "      <td>187480</td>\n",
       "      <td>2</td>\n",
       "      <td>1</td>\n",
       "      <td>4</td>\n",
       "      <td>0.080300</td>\n",
       "      <td>...</td>\n",
       "      <td>0.783</td>\n",
       "      <td>0.000000</td>\n",
       "      <td>0.0786</td>\n",
       "      <td>-5.480</td>\n",
       "      <td>0.0720</td>\n",
       "      <td>0.274</td>\n",
       "      <td>157.057</td>\n",
       "      <td>2008</td>\n",
       "      <td>0.0</td>\n",
       "      <td>4.0</td>\n",
       "    </tr>\n",
       "    <tr>\n",
       "      <th>1</th>\n",
       "      <td>Old Judge Jones</td>\n",
       "      <td>Say No More</td>\n",
       "      <td>Les Dudek</td>\n",
       "      <td>1977-01-01</td>\n",
       "      <td>29</td>\n",
       "      <td>278800</td>\n",
       "      <td>8</td>\n",
       "      <td>1</td>\n",
       "      <td>4</td>\n",
       "      <td>0.094400</td>\n",
       "      <td>...</td>\n",
       "      <td>0.647</td>\n",
       "      <td>0.004810</td>\n",
       "      <td>0.2470</td>\n",
       "      <td>-9.260</td>\n",
       "      <td>0.0343</td>\n",
       "      <td>0.652</td>\n",
       "      <td>135.866</td>\n",
       "      <td>1977</td>\n",
       "      <td>0.0</td>\n",
       "      <td>0.0</td>\n",
       "    </tr>\n",
       "    <tr>\n",
       "      <th>2</th>\n",
       "      <td>Endless Fantasy</td>\n",
       "      <td>Endless Fantasy</td>\n",
       "      <td>Anamanaguchi</td>\n",
       "      <td>2013-05-14</td>\n",
       "      <td>43</td>\n",
       "      <td>357785</td>\n",
       "      <td>8</td>\n",
       "      <td>1</td>\n",
       "      <td>3</td>\n",
       "      <td>0.000315</td>\n",
       "      <td>...</td>\n",
       "      <td>0.731</td>\n",
       "      <td>0.025200</td>\n",
       "      <td>0.2210</td>\n",
       "      <td>-4.027</td>\n",
       "      <td>0.1030</td>\n",
       "      <td>0.293</td>\n",
       "      <td>126.692</td>\n",
       "      <td>2013</td>\n",
       "      <td>0.0</td>\n",
       "      <td>0.0</td>\n",
       "    </tr>\n",
       "    <tr>\n",
       "      <th>3</th>\n",
       "      <td>Hope Has a Place</td>\n",
       "      <td>The Memory of Trees</td>\n",
       "      <td>Enya</td>\n",
       "      <td>1995-11-20</td>\n",
       "      <td>35</td>\n",
       "      <td>288640</td>\n",
       "      <td>11</td>\n",
       "      <td>1</td>\n",
       "      <td>4</td>\n",
       "      <td>0.954000</td>\n",
       "      <td>...</td>\n",
       "      <td>0.127</td>\n",
       "      <td>0.092700</td>\n",
       "      <td>0.1090</td>\n",
       "      <td>-18.247</td>\n",
       "      <td>0.0383</td>\n",
       "      <td>0.071</td>\n",
       "      <td>70.883</td>\n",
       "      <td>1995</td>\n",
       "      <td>0.0</td>\n",
       "      <td>2.0</td>\n",
       "    </tr>\n",
       "    <tr>\n",
       "      <th>4</th>\n",
       "      <td>Put the Needle on It - Radio Version</td>\n",
       "      <td>Neon Nights (Deluxe Version)</td>\n",
       "      <td>Dannii Minogue</td>\n",
       "      <td>2003-01-01</td>\n",
       "      <td>37</td>\n",
       "      <td>204000</td>\n",
       "      <td>6</td>\n",
       "      <td>0</td>\n",
       "      <td>4</td>\n",
       "      <td>0.014100</td>\n",
       "      <td>...</td>\n",
       "      <td>0.618</td>\n",
       "      <td>0.035800</td>\n",
       "      <td>0.0970</td>\n",
       "      <td>-8.194</td>\n",
       "      <td>0.0651</td>\n",
       "      <td>0.776</td>\n",
       "      <td>120.021</td>\n",
       "      <td>2003</td>\n",
       "      <td>0.0</td>\n",
       "      <td>0.0</td>\n",
       "    </tr>\n",
       "    <tr>\n",
       "      <th>...</th>\n",
       "      <td>...</td>\n",
       "      <td>...</td>\n",
       "      <td>...</td>\n",
       "      <td>...</td>\n",
       "      <td>...</td>\n",
       "      <td>...</td>\n",
       "      <td>...</td>\n",
       "      <td>...</td>\n",
       "      <td>...</td>\n",
       "      <td>...</td>\n",
       "      <td>...</td>\n",
       "      <td>...</td>\n",
       "      <td>...</td>\n",
       "      <td>...</td>\n",
       "      <td>...</td>\n",
       "      <td>...</td>\n",
       "      <td>...</td>\n",
       "      <td>...</td>\n",
       "      <td>...</td>\n",
       "      <td>...</td>\n",
       "      <td>...</td>\n",
       "    </tr>\n",
       "    <tr>\n",
       "      <th>208821</th>\n",
       "      <td>What You Get Is What You See - Live</td>\n",
       "      <td>Tina Live in Europe</td>\n",
       "      <td>Tina Turner</td>\n",
       "      <td>1988-03-16</td>\n",
       "      <td>32</td>\n",
       "      <td>334040</td>\n",
       "      <td>5</td>\n",
       "      <td>1</td>\n",
       "      <td>4</td>\n",
       "      <td>0.006120</td>\n",
       "      <td>...</td>\n",
       "      <td>0.906</td>\n",
       "      <td>0.001860</td>\n",
       "      <td>0.9880</td>\n",
       "      <td>-10.985</td>\n",
       "      <td>0.0610</td>\n",
       "      <td>0.676</td>\n",
       "      <td>168.447</td>\n",
       "      <td>1988</td>\n",
       "      <td>1.0</td>\n",
       "      <td>7.0</td>\n",
       "    </tr>\n",
       "    <tr>\n",
       "      <th>208822</th>\n",
       "      <td>What You Waiting For?</td>\n",
       "      <td>Love Angel Music Baby (Deluxe Version)</td>\n",
       "      <td>Gwen Stefani</td>\n",
       "      <td>2004-11-23</td>\n",
       "      <td>54</td>\n",
       "      <td>221227</td>\n",
       "      <td>5</td>\n",
       "      <td>1</td>\n",
       "      <td>4</td>\n",
       "      <td>0.050900</td>\n",
       "      <td>...</td>\n",
       "      <td>0.948</td>\n",
       "      <td>0.000008</td>\n",
       "      <td>0.3840</td>\n",
       "      <td>-2.557</td>\n",
       "      <td>0.0628</td>\n",
       "      <td>0.731</td>\n",
       "      <td>136.027</td>\n",
       "      <td>2004</td>\n",
       "      <td>1.0</td>\n",
       "      <td>0.0</td>\n",
       "    </tr>\n",
       "    <tr>\n",
       "      <th>208823</th>\n",
       "      <td>Say What You Want</td>\n",
       "      <td>The Greatest Hits</td>\n",
       "      <td>Texas</td>\n",
       "      <td>2000-10-23</td>\n",
       "      <td>44</td>\n",
       "      <td>230547</td>\n",
       "      <td>4</td>\n",
       "      <td>1</td>\n",
       "      <td>4</td>\n",
       "      <td>0.176000</td>\n",
       "      <td>...</td>\n",
       "      <td>0.824</td>\n",
       "      <td>0.000000</td>\n",
       "      <td>0.1150</td>\n",
       "      <td>-6.015</td>\n",
       "      <td>0.0753</td>\n",
       "      <td>0.777</td>\n",
       "      <td>95.893</td>\n",
       "      <td>2000</td>\n",
       "      <td>1.0</td>\n",
       "      <td>1.0</td>\n",
       "    </tr>\n",
       "    <tr>\n",
       "      <th>208824</th>\n",
       "      <td>What's a Guy Gotta Do</td>\n",
       "      <td>What's a Guy Gotta Do</td>\n",
       "      <td>John McNicholl</td>\n",
       "      <td>2005-09-02</td>\n",
       "      <td>17</td>\n",
       "      <td>147987</td>\n",
       "      <td>1</td>\n",
       "      <td>1</td>\n",
       "      <td>4</td>\n",
       "      <td>0.592000</td>\n",
       "      <td>...</td>\n",
       "      <td>0.778</td>\n",
       "      <td>0.000000</td>\n",
       "      <td>0.0897</td>\n",
       "      <td>-7.352</td>\n",
       "      <td>0.0318</td>\n",
       "      <td>0.968</td>\n",
       "      <td>169.910</td>\n",
       "      <td>2005</td>\n",
       "      <td>1.0</td>\n",
       "      <td>0.0</td>\n",
       "    </tr>\n",
       "    <tr>\n",
       "      <th>208825</th>\n",
       "      <td>What's A Matter Baby (Is It Hurting You)</td>\n",
       "      <td>What's A Matter Baby (Expanded Edition)</td>\n",
       "      <td>Timi Yuro</td>\n",
       "      <td>1962-09-10</td>\n",
       "      <td>24</td>\n",
       "      <td>165707</td>\n",
       "      <td>9</td>\n",
       "      <td>1</td>\n",
       "      <td>4</td>\n",
       "      <td>0.264000</td>\n",
       "      <td>...</td>\n",
       "      <td>0.830</td>\n",
       "      <td>0.000000</td>\n",
       "      <td>0.2660</td>\n",
       "      <td>-5.722</td>\n",
       "      <td>0.0480</td>\n",
       "      <td>0.864</td>\n",
       "      <td>112.580</td>\n",
       "      <td>1962</td>\n",
       "      <td>1.0</td>\n",
       "      <td>0.0</td>\n",
       "    </tr>\n",
       "  </tbody>\n",
       "</table>\n",
       "<p>208826 rows × 21 columns</p>\n",
       "</div>"
      ],
      "text/plain": [
       "                                            name  \\\n",
       "0            Corner Man - Explicit Album Version   \n",
       "1                                Old Judge Jones   \n",
       "2                                Endless Fantasy   \n",
       "3                               Hope Has a Place   \n",
       "4           Put the Needle on It - Radio Version   \n",
       "...                                          ...   \n",
       "208821       What You Get Is What You See - Live   \n",
       "208822                     What You Waiting For?   \n",
       "208823                         Say What You Want   \n",
       "208824                     What's a Guy Gotta Do   \n",
       "208825  What's A Matter Baby (Is It Hurting You)   \n",
       "\n",
       "                                          album          artist release_date  \\\n",
       "0                                   Last 2 Walk   Three 6 Mafia   2008-06-21   \n",
       "1                                   Say No More       Les Dudek   1977-01-01   \n",
       "2                               Endless Fantasy    Anamanaguchi   2013-05-14   \n",
       "3                           The Memory of Trees            Enya   1995-11-20   \n",
       "4                  Neon Nights (Deluxe Version)  Dannii Minogue   2003-01-01   \n",
       "...                                         ...             ...          ...   \n",
       "208821                      Tina Live in Europe     Tina Turner   1988-03-16   \n",
       "208822   Love Angel Music Baby (Deluxe Version)    Gwen Stefani   2004-11-23   \n",
       "208823                        The Greatest Hits           Texas   2000-10-23   \n",
       "208824                    What's a Guy Gotta Do  John McNicholl   2005-09-02   \n",
       "208825  What's A Matter Baby (Expanded Edition)       Timi Yuro   1962-09-10   \n",
       "\n",
       "        popularity  duration_ms  key  mode  time_signature  acousticness  ...  \\\n",
       "0               20       187480    2     1               4      0.080300  ...   \n",
       "1               29       278800    8     1               4      0.094400  ...   \n",
       "2               43       357785    8     1               3      0.000315  ...   \n",
       "3               35       288640   11     1               4      0.954000  ...   \n",
       "4               37       204000    6     0               4      0.014100  ...   \n",
       "...            ...          ...  ...   ...             ...           ...  ...   \n",
       "208821          32       334040    5     1               4      0.006120  ...   \n",
       "208822          54       221227    5     1               4      0.050900  ...   \n",
       "208823          44       230547    4     1               4      0.176000  ...   \n",
       "208824          17       147987    1     1               4      0.592000  ...   \n",
       "208825          24       165707    9     1               4      0.264000  ...   \n",
       "\n",
       "        energy  instrumentalness  liveness  loudness  speechiness  valence  \\\n",
       "0        0.783          0.000000    0.0786    -5.480       0.0720    0.274   \n",
       "1        0.647          0.004810    0.2470    -9.260       0.0343    0.652   \n",
       "2        0.731          0.025200    0.2210    -4.027       0.1030    0.293   \n",
       "3        0.127          0.092700    0.1090   -18.247       0.0383    0.071   \n",
       "4        0.618          0.035800    0.0970    -8.194       0.0651    0.776   \n",
       "...        ...               ...       ...       ...          ...      ...   \n",
       "208821   0.906          0.001860    0.9880   -10.985       0.0610    0.676   \n",
       "208822   0.948          0.000008    0.3840    -2.557       0.0628    0.731   \n",
       "208823   0.824          0.000000    0.1150    -6.015       0.0753    0.777   \n",
       "208824   0.778          0.000000    0.0897    -7.352       0.0318    0.968   \n",
       "208825   0.830          0.000000    0.2660    -5.722       0.0480    0.864   \n",
       "\n",
       "          tempo  year  target  artist_score  \n",
       "0       157.057  2008     0.0           4.0  \n",
       "1       135.866  1977     0.0           0.0  \n",
       "2       126.692  2013     0.0           0.0  \n",
       "3        70.883  1995     0.0           2.0  \n",
       "4       120.021  2003     0.0           0.0  \n",
       "...         ...   ...     ...           ...  \n",
       "208821  168.447  1988     1.0           7.0  \n",
       "208822  136.027  2004     1.0           0.0  \n",
       "208823   95.893  2000     1.0           1.0  \n",
       "208824  169.910  2005     1.0           0.0  \n",
       "208825  112.580  1962     1.0           0.0  \n",
       "\n",
       "[208826 rows x 21 columns]"
      ]
     },
     "execution_count": 4,
     "metadata": {},
     "output_type": "execute_result"
    }
   ],
   "source": [
    "dataset"
   ]
  },
  {
   "cell_type": "code",
   "execution_count": null,
   "metadata": {},
   "outputs": [],
   "source": []
  },
  {
   "cell_type": "code",
   "execution_count": 5,
   "metadata": {},
   "outputs": [
    {
     "name": "stderr",
     "output_type": "stream",
     "text": [
      "/home/guillaume/code/GGIML/music_project/musenv/lib/python3.7/site-packages/ipykernel/ipkernel.py:287: DeprecationWarning: `should_run_async` will not call `transform_cell` automatically in the future. Please pass the result to `transformed_cell` argument and any exception that happen during thetransform in `preprocessing_exc_tuple` in IPython 7.17 and above.\n",
      "  and should_run_async(code)\n"
     ]
    }
   ],
   "source": [
    "data_2018 = dataset[dataset.year==2018]"
   ]
  },
  {
   "cell_type": "code",
   "execution_count": null,
   "metadata": {},
   "outputs": [],
   "source": []
  },
  {
   "cell_type": "code",
   "execution_count": 6,
   "metadata": {},
   "outputs": [
    {
     "name": "stderr",
     "output_type": "stream",
     "text": [
      "/home/guillaume/code/GGIML/music_project/musenv/lib/python3.7/site-packages/ipykernel/ipkernel.py:287: DeprecationWarning: `should_run_async` will not call `transform_cell` automatically in the future. Please pass the result to `transformed_cell` argument and any exception that happen during thetransform in `preprocessing_exc_tuple` in IPython 7.17 and above.\n",
      "  and should_run_async(code)\n"
     ]
    }
   ],
   "source": [
    "data_new = dataset.drop(['name', 'album', 'artist', 'popularity', 'release_date'], axis=1)"
   ]
  },
  {
   "cell_type": "code",
   "execution_count": 7,
   "metadata": {},
   "outputs": [],
   "source": [
    "to_encode=['year', 'key', 'mode']\n",
    "to_bin=['duration_ms']\n",
    "num_cols = ['time_signature', 'acousticness', 'danceability', 'energy', 'instrumentalness', 'liveness', 'loudness', 'speechiness', 'valence', 'tempo', 'artist_score']"
   ]
  },
  {
   "cell_type": "code",
   "execution_count": 8,
   "metadata": {},
   "outputs": [],
   "source": [
    "transformer = ColumnTransformer([('scaler', StandardScaler(), num_cols),\n",
    "                                 (\"discretizer\", KBinsDiscretizer(), to_bin),\n",
    "                                 (\"encoder\", OneHotEncoder(drop='first'), to_encode)],\n",
    "                                n_jobs=-1, verbose=1)"
   ]
  },
  {
   "cell_type": "code",
   "execution_count": 9,
   "metadata": {},
   "outputs": [],
   "source": [
    "X = data_new.drop('target', axis=1)\n",
    "y = data_new.target"
   ]
  },
  {
   "cell_type": "code",
   "execution_count": 10,
   "metadata": {},
   "outputs": [],
   "source": [
    "X_train, X_test, y_train, y_test = train_test_split(X, y, test_size=.2, random_state=42, stratify=y)"
   ]
  },
  {
   "cell_type": "code",
   "execution_count": 11,
   "metadata": {},
   "outputs": [
    {
     "name": "stderr",
     "output_type": "stream",
     "text": [
      "/home/guillaume/code/GGIML/music_project/musenv/lib/python3.7/site-packages/ipykernel/ipkernel.py:287: DeprecationWarning: `should_run_async` will not call `transform_cell` automatically in the future. Please pass the result to `transformed_cell` argument and any exception that happen during thetransform in `preprocessing_exc_tuple` in IPython 7.17 and above.\n",
      "  and should_run_async(code)\n"
     ]
    }
   ],
   "source": [
    "X_train = transformer.fit_transform(X_train)"
   ]
  },
  {
   "cell_type": "code",
   "execution_count": 12,
   "metadata": {},
   "outputs": [
    {
     "name": "stderr",
     "output_type": "stream",
     "text": [
      "/home/guillaume/code/GGIML/music_project/musenv/lib/python3.7/site-packages/ipykernel/ipkernel.py:287: DeprecationWarning: `should_run_async` will not call `transform_cell` automatically in the future. Please pass the result to `transformed_cell` argument and any exception that happen during thetransform in `preprocessing_exc_tuple` in IPython 7.17 and above.\n",
      "  and should_run_async(code)\n"
     ]
    }
   ],
   "source": [
    "X_test = transformer.transform(X_test)"
   ]
  },
  {
   "cell_type": "code",
   "execution_count": 47,
   "metadata": {},
   "outputs": [],
   "source": [
    "other_cols = [col for col in num_cols if col not in to_bin+to_encode]\n",
    "bin_edges = transformer.transformers_[1][1].bin_edges_[0]\n",
    "onehot_columns = transformer.transformers_[2][1].get_feature_names(to_encode)"
   ]
  },
  {
   "cell_type": "code",
   "execution_count": 48,
   "metadata": {},
   "outputs": [],
   "source": [
    "features_transformed = other_cols+\\\n",
    "[f'Duration:[{bin_edges[i]}:{bin_edges[i+1]}]' for i in range(len(bin_edges)-1)]+\\\n",
    "list(onehot_columns)"
   ]
  },
  {
   "cell_type": "code",
   "execution_count": null,
   "metadata": {},
   "outputs": [],
   "source": []
  },
  {
   "cell_type": "code",
   "execution_count": null,
   "metadata": {},
   "outputs": [],
   "source": []
  },
  {
   "cell_type": "code",
   "execution_count": null,
   "metadata": {},
   "outputs": [],
   "source": []
  },
  {
   "cell_type": "code",
   "execution_count": null,
   "metadata": {},
   "outputs": [],
   "source": []
  },
  {
   "cell_type": "code",
   "execution_count": null,
   "metadata": {},
   "outputs": [],
   "source": []
  },
  {
   "cell_type": "code",
   "execution_count": 104,
   "metadata": {
    "scrolled": true
   },
   "outputs": [],
   "source": [
    "def create_experiment(experiment_name) -> int:\n",
    "    \"\"\"\n",
    "    Creates an mlflow experiment\n",
    "    :param experiment_name: str. The name of the experiment to be set in MLFlow\n",
    "    :return: the id of the experiment created if it doesn't exist, or the id of the existing experiment if it is already\n",
    "    :return: the id of the experiment created if it doesn't exist, or the id of the existing experiment if it is already\n",
    "    created\n",
    "    \"\"\"\n",
    "    client = MlflowClient()\n",
    "    experiments = client.list_experiments()\n",
    "    experiment_names = set(map(lambda e: e.name, experiments))\n",
    "    if experiment_name in experiment_names:\n",
    "        print(f'Experiment {experiment_name} already created.')\n",
    "        return list(filter(lambda e: e.name == experiment_name, experiments))[0].experiment_id\n",
    "    else:\n",
    "        return mlflow.create_experiment(name=experiment_name)\n",
    "\n",
    "def eval_metrics(actual, pred):\n",
    "    f1 = f1_score(actual, pred, pos_label=1)\n",
    "    roc_auc = roc_auc_score(actual, pred)\n",
    "    return f1, roc_auc"
   ]
  },
  {
   "cell_type": "code",
   "execution_count": 111,
   "metadata": {},
   "outputs": [
    {
     "name": "stderr",
     "output_type": "stream",
     "text": [
      "/home/guillaume/code/GGIML/music_project/musenv/lib/python3.7/site-packages/ipykernel/ipkernel.py:287: DeprecationWarning: `should_run_async` will not call `transform_cell` automatically in the future. Please pass the result to `transformed_cell` argument and any exception that happen during thetransform in `preprocessing_exc_tuple` in IPython 7.17 and above.\n",
      "  and should_run_async(code)\n"
     ]
    },
    {
     "name": "stdout",
     "output_type": "stream",
     "text": [
      "Experiment SMOTE LGBM already created.\n",
      "Experiment SMOTE LGBM already created.\n",
      "Experiment SMOTE LGBM already created.\n",
      "Experiment SMOTE LGBM already created.\n",
      "Experiment SMOTE LGBM already created.\n",
      "Experiment SMOTE LGBM already created.\n",
      "Experiment SMOTE LGBM already created.\n",
      "Experiment SMOTE LGBM already created.\n"
     ]
    }
   ],
   "source": [
    "for sampling_strat in np.arange(0.2, 1, 0.1):\n",
    "\n",
    "    experiment_id = create_experiment(experiment_name='SMOTE LGBM')\n",
    "\n",
    "    with mlflow.start_run(experiment_id=experiment_id, nested=False):\n",
    "        mlflow.set_tracking_uri(\"http://127.0.0.1:5000\")\n",
    "\n",
    "        mlflow.lightgbm.autolog()\n",
    "\n",
    "        over_sampler = SMOTE(sampling_strategy=sampling_strat)\n",
    "        under_sampler = EditedNearestNeighbours()\n",
    "        smote = SMOTEENN(smote=over_sampler, enn=under_sampler,random_state=42)\n",
    "\n",
    "        X_train_sampled, y_train_sampled = smote.fit_sample(X_train, y_train)\n",
    "\n",
    "        #Train a machine learning model of your choice with scikit learn\n",
    "        lgbm = LGBMClassifier(max_depth=3, num_leaves=5, n_estimators=300, random_state=42)\n",
    "        lgbm.fit(X_train_sampled, y_train_sampled)\n",
    "\n",
    "        #Make prediction\n",
    "        y_pred_lgbm = lgbm.predict(X_test)\n",
    "        y_pred_train_lgbm = lgbm.predict(X_train)\n",
    "\n",
    "        #Look at some metrics like the rmse\n",
    "        f1_test, roc_auc_test = eval_metrics(y_test, y_pred_lgbm)\n",
    "        f1_train, roc_auc_train = eval_metrics(y_train, y_pred_train_lgbm)\n",
    "\n",
    "        #Now your can log the params and metrics of your model\n",
    "        mlflow.log_param('max_depth', lgbm.max_depth)\n",
    "        mlflow.log_param('num_leaves', lgbm.num_leaves)\n",
    "        mlflow.log_param('n_estimators', lgbm.n_estimators)\n",
    "        mlflow.log_metric('F1_test', f1_test)\n",
    "        mlflow.log_metric('F1_train', f1_train)\n",
    "        mlflow.log_metric('ROC_AUC_test', roc_auc_test)\n",
    "        mlflow.log_metric('ROC_AUC_train', roc_auc_train)\n",
    "        mlflow.log_metric('Resampling_strat', sampling_strat)\n",
    "\n",
    "        #Log your scikit learn model\n",
    "        #mlflow.lightgbm.log_model(lgbm, 'lgbm')"
   ]
  },
  {
   "cell_type": "code",
   "execution_count": null,
   "metadata": {},
   "outputs": [],
   "source": []
  },
  {
   "cell_type": "code",
   "execution_count": 51,
   "metadata": {},
   "outputs": [],
   "source": [
    "lgbm = LGBMClassifier(max_depth=3, num_leaves=5, n_estimators=300, random_state=42)"
   ]
  },
  {
   "cell_type": "code",
   "execution_count": 52,
   "metadata": {},
   "outputs": [
    {
     "data": {
      "text/plain": [
       "LGBMClassifier(max_depth=3, n_estimators=300, num_leaves=5, random_state=42)"
      ]
     },
     "execution_count": 52,
     "metadata": {},
     "output_type": "execute_result"
    }
   ],
   "source": [
    "lgbm.fit(X_train_sampled, y_train_sampled)"
   ]
  },
  {
   "cell_type": "code",
   "execution_count": 53,
   "metadata": {},
   "outputs": [],
   "source": [
    "y_pred_lgbm = lgbm.predict(X_test)\n",
    "y_pred_train_lgbm = lgbm.predict(X_train)"
   ]
  },
  {
   "cell_type": "code",
   "execution_count": 54,
   "metadata": {},
   "outputs": [
    {
     "name": "stdout",
     "output_type": "stream",
     "text": [
      "              precision    recall  f1-score   support\n",
      "\n",
      "         0.0       0.93      0.91      0.92       634\n",
      "         1.0       0.49      0.54      0.52       101\n",
      "\n",
      "    accuracy                           0.86       735\n",
      "   macro avg       0.71      0.73      0.72       735\n",
      "weighted avg       0.87      0.86      0.86       735\n",
      "\n"
     ]
    }
   ],
   "source": [
    "print(classification_report(y_test, y_pred_lgbm))"
   ]
  },
  {
   "cell_type": "code",
   "execution_count": 55,
   "metadata": {
    "scrolled": true
   },
   "outputs": [
    {
     "name": "stdout",
     "output_type": "stream",
     "text": [
      "              precision    recall  f1-score   support\n",
      "\n",
      "         0.0       0.95      0.92      0.94      2538\n",
      "         1.0       0.60      0.70      0.64       402\n",
      "\n",
      "    accuracy                           0.89      2940\n",
      "   macro avg       0.77      0.81      0.79      2940\n",
      "weighted avg       0.90      0.89      0.90      2940\n",
      "\n"
     ]
    }
   ],
   "source": [
    "print(classification_report(y_train, y_pred_train_lgbm))"
   ]
  },
  {
   "cell_type": "code",
   "execution_count": 56,
   "metadata": {},
   "outputs": [],
   "source": [
    "from sklearn.model_selection import GridSearchCV"
   ]
  },
  {
   "cell_type": "code",
   "execution_count": 83,
   "metadata": {},
   "outputs": [],
   "source": [
    "param_grid_lgbm = {'num_leaves':[15, 20, 25],\n",
    "                   'max_depth':[3, 5, 7],\n",
    "                   'n_estimators':[100, 200, 300]}"
   ]
  },
  {
   "cell_type": "code",
   "execution_count": 84,
   "metadata": {},
   "outputs": [],
   "source": [
    "grid_lgbm = GridSearchCV(lgbm, param_grid=param_grid_lgbm, n_jobs=-1, scoring='f1_macro')"
   ]
  },
  {
   "cell_type": "code",
   "execution_count": 85,
   "metadata": {},
   "outputs": [
    {
     "data": {
      "text/plain": [
       "GridSearchCV(estimator=LGBMClassifier(max_depth=3, n_estimators=300,\n",
       "                                      num_leaves=5, random_state=42),\n",
       "             n_jobs=-1,\n",
       "             param_grid={'max_depth': [3, 5, 7],\n",
       "                         'n_estimators': [100, 200, 300],\n",
       "                         'num_leaves': [15, 20, 25]},\n",
       "             scoring='f1_macro')"
      ]
     },
     "execution_count": 85,
     "metadata": {},
     "output_type": "execute_result"
    }
   ],
   "source": [
    "grid_lgbm.fit(X_train_sampled, y_train_sampled)"
   ]
  },
  {
   "cell_type": "code",
   "execution_count": 86,
   "metadata": {},
   "outputs": [
    {
     "data": {
      "text/plain": [
       "{'max_depth': 5, 'n_estimators': 200, 'num_leaves': 15}"
      ]
     },
     "execution_count": 86,
     "metadata": {},
     "output_type": "execute_result"
    }
   ],
   "source": [
    "grid_lgbm.best_params_"
   ]
  },
  {
   "cell_type": "code",
   "execution_count": 87,
   "metadata": {},
   "outputs": [],
   "source": [
    "best_lgbm = grid_lgbm.best_estimator_"
   ]
  },
  {
   "cell_type": "code",
   "execution_count": 88,
   "metadata": {},
   "outputs": [],
   "source": [
    "y_pred_lgbm = best_lgbm.predict(X_test)\n",
    "y_pred_train_lgbm = best_lgbm.predict(X_train)"
   ]
  },
  {
   "cell_type": "code",
   "execution_count": 89,
   "metadata": {},
   "outputs": [
    {
     "name": "stdout",
     "output_type": "stream",
     "text": [
      "              precision    recall  f1-score   support\n",
      "\n",
      "         0.0       0.92      0.91      0.91       634\n",
      "         1.0       0.45      0.49      0.47       101\n",
      "\n",
      "    accuracy                           0.85       735\n",
      "   macro avg       0.69      0.70      0.69       735\n",
      "weighted avg       0.85      0.85      0.85       735\n",
      "\n"
     ]
    }
   ],
   "source": [
    "print(classification_report(y_test, y_pred_lgbm))"
   ]
  },
  {
   "cell_type": "code",
   "execution_count": 90,
   "metadata": {},
   "outputs": [
    {
     "name": "stdout",
     "output_type": "stream",
     "text": [
      "              precision    recall  f1-score   support\n",
      "\n",
      "         0.0       0.99      0.93      0.96      2538\n",
      "         1.0       0.69      0.93      0.79       402\n",
      "\n",
      "    accuracy                           0.93      2940\n",
      "   macro avg       0.84      0.93      0.88      2940\n",
      "weighted avg       0.95      0.93      0.94      2940\n",
      "\n"
     ]
    }
   ],
   "source": [
    "print(classification_report(y_train, y_pred_train_lgbm))"
   ]
  },
  {
   "cell_type": "code",
   "execution_count": null,
   "metadata": {},
   "outputs": [],
   "source": []
  },
  {
   "cell_type": "code",
   "execution_count": 64,
   "metadata": {},
   "outputs": [],
   "source": [
    "from sklearn.linear_model import LogisticRegression"
   ]
  },
  {
   "cell_type": "code",
   "execution_count": 405,
   "metadata": {},
   "outputs": [],
   "source": [
    "logr = LogisticRegression(random_state=42)"
   ]
  },
  {
   "cell_type": "code",
   "execution_count": 406,
   "metadata": {},
   "outputs": [
    {
     "data": {
      "text/plain": [
       "LogisticRegression(random_state=42)"
      ]
     },
     "execution_count": 406,
     "metadata": {},
     "output_type": "execute_result"
    }
   ],
   "source": [
    "logr.fit(X_train_sampled, y_train_sampled)"
   ]
  },
  {
   "cell_type": "code",
   "execution_count": 407,
   "metadata": {},
   "outputs": [],
   "source": [
    "y_pred = logr.predict(X_test)"
   ]
  },
  {
   "cell_type": "code",
   "execution_count": 408,
   "metadata": {},
   "outputs": [],
   "source": [
    "y_pred_train = logr.predict(X_train)"
   ]
  },
  {
   "cell_type": "code",
   "execution_count": 409,
   "metadata": {},
   "outputs": [
    {
     "name": "stdout",
     "output_type": "stream",
     "text": [
      "              precision    recall  f1-score   support\n",
      "\n",
      "         0.0       0.92      0.88      0.90       634\n",
      "         1.0       0.43      0.54      0.48       101\n",
      "\n",
      "    accuracy                           0.84       735\n",
      "   macro avg       0.68      0.71      0.69       735\n",
      "weighted avg       0.86      0.84      0.84       735\n",
      "\n"
     ]
    }
   ],
   "source": [
    "print(classification_report(y_test, y_pred))"
   ]
  },
  {
   "cell_type": "code",
   "execution_count": 410,
   "metadata": {},
   "outputs": [
    {
     "name": "stdout",
     "output_type": "stream",
     "text": [
      "              precision    recall  f1-score   support\n",
      "\n",
      "         0.0       0.92      0.88      0.90      2538\n",
      "         1.0       0.41      0.53      0.46       402\n",
      "\n",
      "    accuracy                           0.83      2940\n",
      "   macro avg       0.67      0.70      0.68      2940\n",
      "weighted avg       0.85      0.83      0.84      2940\n",
      "\n"
     ]
    }
   ],
   "source": [
    "print(classification_report(y_train, y_pred_train))"
   ]
  },
  {
   "cell_type": "code",
   "execution_count": 433,
   "metadata": {},
   "outputs": [],
   "source": [
    "param_grid_logr = {'solver':['newton-cg', 'lbfgs', 'saga'],\n",
    "                  'penalty':['l1', 'l2', 'elasticnet']}"
   ]
  },
  {
   "cell_type": "code",
   "execution_count": 434,
   "metadata": {},
   "outputs": [],
   "source": [
    "grid_logr = GridSearchCV(logr, param_grid=param_grid_logr, n_jobs=-1, scoring='f1_macro')"
   ]
  },
  {
   "cell_type": "code",
   "execution_count": 435,
   "metadata": {},
   "outputs": [
    {
     "data": {
      "text/plain": [
       "GridSearchCV(estimator=LogisticRegression(penalty='l1', random_state=42,\n",
       "                                          solver='saga'),\n",
       "             n_jobs=-1,\n",
       "             param_grid={'penalty': ['l1', 'l2', 'elasticnet'],\n",
       "                         'solver': ['newton-cg', 'lbfgs', 'saga']},\n",
       "             scoring='f1_macro')"
      ]
     },
     "execution_count": 435,
     "metadata": {},
     "output_type": "execute_result"
    }
   ],
   "source": [
    "grid_logr.fit(X_train_sampled, y_train_sampled)"
   ]
  },
  {
   "cell_type": "code",
   "execution_count": 436,
   "metadata": {},
   "outputs": [
    {
     "data": {
      "text/plain": [
       "{'penalty': 'l1', 'solver': 'saga'}"
      ]
     },
     "execution_count": 436,
     "metadata": {},
     "output_type": "execute_result"
    }
   ],
   "source": [
    "grid_logr.best_params_"
   ]
  },
  {
   "cell_type": "code",
   "execution_count": 437,
   "metadata": {},
   "outputs": [],
   "source": [
    "logr = grid_logr.best_estimator_"
   ]
  },
  {
   "cell_type": "code",
   "execution_count": 416,
   "metadata": {},
   "outputs": [],
   "source": [
    "param_grid_logr = {'C':[0.1, 1, 10, 100, 1000]}"
   ]
  },
  {
   "cell_type": "code",
   "execution_count": 417,
   "metadata": {},
   "outputs": [],
   "source": [
    "grid_logr = GridSearchCV(logr, param_grid=param_grid_logr, n_jobs=-1, scoring='f1_macro')"
   ]
  },
  {
   "cell_type": "code",
   "execution_count": 418,
   "metadata": {},
   "outputs": [
    {
     "data": {
      "text/plain": [
       "GridSearchCV(estimator=LogisticRegression(penalty='l1', random_state=42,\n",
       "                                          solver='saga'),\n",
       "             n_jobs=-1, param_grid={'C': [0.1, 1, 10, 100, 1000]},\n",
       "             scoring='f1_macro')"
      ]
     },
     "execution_count": 418,
     "metadata": {},
     "output_type": "execute_result"
    }
   ],
   "source": [
    "grid_logr.fit(X_train_sampled, y_train_sampled)"
   ]
  },
  {
   "cell_type": "code",
   "execution_count": 419,
   "metadata": {},
   "outputs": [
    {
     "data": {
      "text/plain": [
       "{'C': 1}"
      ]
     },
     "execution_count": 419,
     "metadata": {},
     "output_type": "execute_result"
    }
   ],
   "source": [
    "grid_logr.best_params_"
   ]
  },
  {
   "cell_type": "code",
   "execution_count": 438,
   "metadata": {},
   "outputs": [],
   "source": [
    "param_grid_logr = {'C':np.random.normal(1, 1, 1000)}"
   ]
  },
  {
   "cell_type": "code",
   "execution_count": 439,
   "metadata": {},
   "outputs": [],
   "source": [
    "grid_logr = GridSearchCV(logr, param_grid=param_grid_logr, n_jobs=-1, scoring='f1_macro')"
   ]
  },
  {
   "cell_type": "code",
   "execution_count": 440,
   "metadata": {},
   "outputs": [
    {
     "data": {
      "text/plain": [
       "GridSearchCV(estimator=LogisticRegression(penalty='l1', random_state=42,\n",
       "                                          solver='saga'),\n",
       "             n_jobs=-1,\n",
       "             param_grid={'C': array([ 0.50200548,  0.53360547,  2.19773783,  1.66861348, -0.19603419,\n",
       "        0.49594109,  1.18528643,  0.48553828,  0.12493453,  1.34989718,\n",
       "        0.5684225 , -0.01777652, -0.45510348,  2.22695297,  0.12067776,\n",
       "       -0.39462804,  0.37618992,  0.68291755,  1.15948098,  1.05958253,\n",
       "        2.229464...\n",
       "        1.72954935,  0.50063788,  1.99312224,  2.31901386,  0.40722663,\n",
       "        1.50092894, -0.27418224,  0.2434233 ,  1.93025053, -1.24982226,\n",
       "        3.14545886,  0.41624565,  1.53417903,  0.83937352,  1.0319325 ,\n",
       "        1.44699805,  0.10653761,  1.57656584,  2.16514603,  1.24394967,\n",
       "        0.06180656,  2.82628549,  1.6065696 ,  0.22554011, -0.36251275,\n",
       "        0.59940481,  0.74015441, -0.1319072 ,  1.07241783,  1.6233213 ])},\n",
       "             scoring='f1_macro')"
      ]
     },
     "execution_count": 440,
     "metadata": {},
     "output_type": "execute_result"
    }
   ],
   "source": [
    "grid_logr.fit(X_train_sampled, y_train_sampled)"
   ]
  },
  {
   "cell_type": "code",
   "execution_count": 441,
   "metadata": {},
   "outputs": [
    {
     "data": {
      "text/plain": [
       "{'C': 0.502005477703523}"
      ]
     },
     "execution_count": 441,
     "metadata": {},
     "output_type": "execute_result"
    }
   ],
   "source": [
    "grid_logr.best_params_"
   ]
  },
  {
   "cell_type": "code",
   "execution_count": 442,
   "metadata": {},
   "outputs": [],
   "source": [
    "best_logr = grid_logr.best_estimator_"
   ]
  },
  {
   "cell_type": "code",
   "execution_count": 443,
   "metadata": {},
   "outputs": [],
   "source": [
    "y_pred = best_logr.predict(X_test)"
   ]
  },
  {
   "cell_type": "code",
   "execution_count": 444,
   "metadata": {},
   "outputs": [],
   "source": [
    "y_pred_train = best_logr.predict(X_train)"
   ]
  },
  {
   "cell_type": "code",
   "execution_count": 445,
   "metadata": {},
   "outputs": [
    {
     "name": "stdout",
     "output_type": "stream",
     "text": [
      "              precision    recall  f1-score   support\n",
      "\n",
      "         0.0       0.92      0.88      0.90       634\n",
      "         1.0       0.41      0.50      0.45       101\n",
      "\n",
      "    accuracy                           0.83       735\n",
      "   macro avg       0.66      0.69      0.68       735\n",
      "weighted avg       0.85      0.83      0.84       735\n",
      "\n"
     ]
    }
   ],
   "source": [
    "print(classification_report(y_test, y_pred))"
   ]
  },
  {
   "cell_type": "code",
   "execution_count": 446,
   "metadata": {},
   "outputs": [
    {
     "name": "stdout",
     "output_type": "stream",
     "text": [
      "              precision    recall  f1-score   support\n",
      "\n",
      "         0.0       0.92      0.88      0.90      2538\n",
      "         1.0       0.41      0.52      0.46       402\n",
      "\n",
      "    accuracy                           0.83      2940\n",
      "   macro avg       0.67      0.70      0.68      2940\n",
      "weighted avg       0.85      0.83      0.84      2940\n",
      "\n"
     ]
    }
   ],
   "source": [
    "print(classification_report(y_train, y_pred_train))"
   ]
  },
  {
   "cell_type": "code",
   "execution_count": 455,
   "metadata": {},
   "outputs": [
    {
     "data": {
      "text/plain": [
       "array([[ 0.24371888, -0.1822859 ,  0.56499807, -0.06267258, -0.32028399,\n",
       "        -0.07564234,  0.33238445,  0.15013573, -0.53292571,  0.18086581,\n",
       "         1.89883183, -0.09823083,  0.        ,  0.        ,  0.02084929,\n",
       "        -0.33916473,  0.04574187, -0.25507311,  0.        , -0.33791153,\n",
       "        -0.11667419,  0.55564621, -0.71514001, -0.32757772, -0.2425911 ,\n",
       "         0.54288638,  0.12345068, -0.03826272]])"
      ]
     },
     "execution_count": 455,
     "metadata": {},
     "output_type": "execute_result"
    }
   ],
   "source": [
    "best_logr.coef_"
   ]
  },
  {
   "cell_type": "code",
   "execution_count": 457,
   "metadata": {},
   "outputs": [
    {
     "data": {
      "text/plain": [
       "['time_signature',\n",
       " 'acousticness',\n",
       " 'danceability',\n",
       " 'energy',\n",
       " 'instrumentalness',\n",
       " 'liveness',\n",
       " 'loudness',\n",
       " 'speechiness',\n",
       " 'valence',\n",
       " 'tempo',\n",
       " 'artist_score',\n",
       " 'Duration:[33881.0:163468.4]',\n",
       " 'Duration:[163468.4:191996.8]',\n",
       " 'Duration:[191996.8:213317.4]',\n",
       " 'Duration:[213317.4:241518.2]',\n",
       " 'Duration:[241518.2:4500062.0]',\n",
       " 'key_1',\n",
       " 'key_2',\n",
       " 'key_3',\n",
       " 'key_4',\n",
       " 'key_5',\n",
       " 'key_6',\n",
       " 'key_7',\n",
       " 'key_8',\n",
       " 'key_9',\n",
       " 'key_10',\n",
       " 'key_11',\n",
       " 'mode_1']"
      ]
     },
     "execution_count": 457,
     "metadata": {},
     "output_type": "execute_result"
    }
   ],
   "source": [
    "features_transformed"
   ]
  },
  {
   "cell_type": "code",
   "execution_count": null,
   "metadata": {},
   "outputs": [],
   "source": []
  }
 ],
 "metadata": {
  "kernelspec": {
   "display_name": "Python 3",
   "language": "python",
   "name": "python3"
  },
  "language_info": {
   "codemirror_mode": {
    "name": "ipython",
    "version": 3
   },
   "file_extension": ".py",
   "mimetype": "text/x-python",
   "name": "python",
   "nbconvert_exporter": "python",
   "pygments_lexer": "ipython3",
   "version": "3.7.6"
  }
 },
 "nbformat": 4,
 "nbformat_minor": 4
}
